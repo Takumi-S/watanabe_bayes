{
  "nbformat": 4,
  "nbformat_minor": 0,
  "metadata": {
    "colab": {
      "provenance": []
    },
    "kernelspec": {
      "name": "python3",
      "display_name": "Python 3"
    },
    "language_info": {
      "name": "python"
    }
  },
  "cells": [
    {
      "cell_type": "code",
      "execution_count": 1,
      "metadata": {
        "colab": {
          "base_uri": "https://localhost:8080/"
        },
        "id": "CiQufYwBoJve",
        "outputId": "e27f1ba2-21ef-4d43-ac23-3aac8801f2ff"
      },
      "outputs": [
        {
          "output_type": "stream",
          "name": "stdout",
          "text": [
            "Collecting pystan\n",
            "  Downloading pystan-3.9.1-py3-none-any.whl (13 kB)\n",
            "Requirement already satisfied: aiohttp<4.0,>=3.6 in /usr/local/lib/python3.10/dist-packages (from pystan) (3.9.5)\n",
            "Collecting clikit<0.7,>=0.6 (from pystan)\n",
            "  Downloading clikit-0.6.2-py2.py3-none-any.whl (91 kB)\n",
            "\u001b[2K     \u001b[90m━━━━━━━━━━━━━━━━━━━━━━━━━━━━━━━━━━━━━━━━\u001b[0m \u001b[32m91.8/91.8 kB\u001b[0m \u001b[31m2.8 MB/s\u001b[0m eta \u001b[36m0:00:00\u001b[0m\n",
            "\u001b[?25hCollecting httpstan<4.13,>=4.12 (from pystan)\n",
            "  Downloading httpstan-4.12.0-cp310-cp310-manylinux_2_17_x86_64.manylinux2014_x86_64.whl (45.3 MB)\n",
            "\u001b[2K     \u001b[90m━━━━━━━━━━━━━━━━━━━━━━━━━━━━━━━━━━━━━━━━\u001b[0m \u001b[32m45.3/45.3 MB\u001b[0m \u001b[31m15.3 MB/s\u001b[0m eta \u001b[36m0:00:00\u001b[0m\n",
            "\u001b[?25hRequirement already satisfied: numpy<2.0,>=1.19 in /usr/local/lib/python3.10/dist-packages (from pystan) (1.25.2)\n",
            "Collecting pysimdjson<7,>=5.0.2 (from pystan)\n",
            "  Downloading pysimdjson-6.0.2-cp310-cp310-manylinux_2_17_x86_64.manylinux2014_x86_64.whl (1.8 MB)\n",
            "\u001b[2K     \u001b[90m━━━━━━━━━━━━━━━━━━━━━━━━━━━━━━━━━━━━━━━━\u001b[0m \u001b[32m1.8/1.8 MB\u001b[0m \u001b[31m42.7 MB/s\u001b[0m eta \u001b[36m0:00:00\u001b[0m\n",
            "\u001b[?25hRequirement already satisfied: setuptools in /usr/local/lib/python3.10/dist-packages (from pystan) (67.7.2)\n",
            "Requirement already satisfied: aiosignal>=1.1.2 in /usr/local/lib/python3.10/dist-packages (from aiohttp<4.0,>=3.6->pystan) (1.3.1)\n",
            "Requirement already satisfied: attrs>=17.3.0 in /usr/local/lib/python3.10/dist-packages (from aiohttp<4.0,>=3.6->pystan) (23.2.0)\n",
            "Requirement already satisfied: frozenlist>=1.1.1 in /usr/local/lib/python3.10/dist-packages (from aiohttp<4.0,>=3.6->pystan) (1.4.1)\n",
            "Requirement already satisfied: multidict<7.0,>=4.5 in /usr/local/lib/python3.10/dist-packages (from aiohttp<4.0,>=3.6->pystan) (6.0.5)\n",
            "Requirement already satisfied: yarl<2.0,>=1.0 in /usr/local/lib/python3.10/dist-packages (from aiohttp<4.0,>=3.6->pystan) (1.9.4)\n",
            "Requirement already satisfied: async-timeout<5.0,>=4.0 in /usr/local/lib/python3.10/dist-packages (from aiohttp<4.0,>=3.6->pystan) (4.0.3)\n",
            "Collecting crashtest<0.4.0,>=0.3.0 (from clikit<0.7,>=0.6->pystan)\n",
            "  Downloading crashtest-0.3.1-py3-none-any.whl (7.0 kB)\n",
            "Collecting pastel<0.3.0,>=0.2.0 (from clikit<0.7,>=0.6->pystan)\n",
            "  Downloading pastel-0.2.1-py2.py3-none-any.whl (6.0 kB)\n",
            "Collecting pylev<2.0,>=1.3 (from clikit<0.7,>=0.6->pystan)\n",
            "  Downloading pylev-1.4.0-py2.py3-none-any.whl (6.1 kB)\n",
            "Collecting appdirs<2.0,>=1.4 (from httpstan<4.13,>=4.12->pystan)\n",
            "  Downloading appdirs-1.4.4-py2.py3-none-any.whl (9.6 kB)\n",
            "Collecting marshmallow<4.0,>=3.10 (from httpstan<4.13,>=4.12->pystan)\n",
            "  Downloading marshmallow-3.21.2-py3-none-any.whl (49 kB)\n",
            "\u001b[2K     \u001b[90m━━━━━━━━━━━━━━━━━━━━━━━━━━━━━━━━━━━━━━━━\u001b[0m \u001b[32m49.3/49.3 kB\u001b[0m \u001b[31m1.2 MB/s\u001b[0m eta \u001b[36m0:00:00\u001b[0m\n",
            "\u001b[?25hCollecting webargs<9.0,>=8.0 (from httpstan<4.13,>=4.12->pystan)\n",
            "  Downloading webargs-8.4.0-py3-none-any.whl (31 kB)\n",
            "Requirement already satisfied: packaging>=17.0 in /usr/local/lib/python3.10/dist-packages (from marshmallow<4.0,>=3.10->httpstan<4.13,>=4.12->pystan) (24.0)\n",
            "Requirement already satisfied: idna>=2.0 in /usr/local/lib/python3.10/dist-packages (from yarl<2.0,>=1.0->aiohttp<4.0,>=3.6->pystan) (3.7)\n",
            "Installing collected packages: pylev, appdirs, pysimdjson, pastel, marshmallow, crashtest, webargs, clikit, httpstan, pystan\n",
            "Successfully installed appdirs-1.4.4 clikit-0.6.2 crashtest-0.3.1 httpstan-4.12.0 marshmallow-3.21.2 pastel-0.2.1 pylev-1.4.0 pysimdjson-6.0.2 pystan-3.9.1 webargs-8.4.0\n"
          ]
        }
      ],
      "source": [
        "!pip install pystan"
      ]
    },
    {
      "cell_type": "code",
      "source": [
        "# colabで非同期処理を実行するために必要\n",
        "import nest_asyncio\n",
        "nest_asyncio.apply()\n",
        "\n",
        "import matplotlib.pyplot as plt\n",
        "import math\n",
        "import numpy as np\n",
        "import pandas as pd\n",
        "import stan\n",
        "import scipy.stats as stats\n",
        "from scipy.stats import norm\n",
        "from scipy.integrate import quad\n",
        "from scipy.interpolate import interp1d\n",
        "from scipy.stats import gaussian_kde"
      ],
      "metadata": {
        "id": "fcomwQB_odAR"
      },
      "execution_count": 2,
      "outputs": []
    },
    {
      "cell_type": "markdown",
      "source": [
        "## 問題61"
      ],
      "metadata": {
        "id": "dabgglVbpPNq"
      }
    },
    {
      "cell_type": "code",
      "source": [
        "def f_true(x):\n",
        "    return stats.norm.pdf(x)\n",
        "\n",
        "def T_n(log_likelihood):\n",
        "    return -np.mean(np.log(np.mean(np.exp(log_likelihood), axis=0)))\n",
        "\n",
        "def G_n(y_pred, f_true):\n",
        "    kde = gaussian_kde(y_pred)\n",
        "    x = np.linspace(min(y_pred), max(y_pred), 1000)\n",
        "    f_pred = interp1d(x, kde(x), bounds_error=False, fill_value=1e-15)\n",
        "\n",
        "    def f_ge(x):\n",
        "        return f_true(x) * (-np.log(f_pred(x)))\n",
        "\n",
        "    ge, _ = quad(f_ge, -6, 6)\n",
        "    return ge\n",
        "\n",
        "def V_n(log_likelihood):\n",
        "    return np.mean(np.mean(log_likelihood**2, axis=0) - np.mean(log_likelihood, axis=0)**2)"
      ],
      "metadata": {
        "id": "MP5IlDYm0iab"
      },
      "execution_count": 4,
      "outputs": []
    },
    {
      "cell_type": "code",
      "source": [
        "stan_code = \"\"\"\n",
        "data {\n",
        "  int <lower=0> N;\n",
        "  vector[N] y;\n",
        "}\n",
        "\n",
        "parameters {\n",
        "  ordered[2] mu;\n",
        "  real <lower=0, upper=1> theta;\n",
        "}\n",
        "\n",
        "model {\n",
        "  mu ~ normal(0, 2);\n",
        "  theta ~ beta(5, 5);\n",
        "  for (n in 1:N)\n",
        "    target += log_mix(theta,\n",
        "      normal_lpdf(y[n] | mu[1], 1),\n",
        "      normal_lpdf(y[n] | mu[2], 1));\n",
        "}\n",
        "\n",
        "generated quantities {\n",
        "  vector[N] log_lik;\n",
        "  real y_pred;\n",
        "  for (n in 1:N) {\n",
        "    log_lik[n] = log_mix(theta,\n",
        "      normal_lpdf(y[n] | mu[1], 1),\n",
        "      normal_lpdf(y[n] | mu[2], 1));\n",
        "    y_pred = theta * normal_rng(mu[1], 1) + (1 - theta) * normal_rng(mu[2], 1);\n",
        "  }\n",
        "}\n",
        "\"\"\"\n",
        "\n",
        "T_stan = []\n",
        "V_stan = []\n",
        "G_stan = []\n",
        "AIC = []\n",
        "m = 50\n",
        "n = 200\n",
        "\n",
        "for j in range(m):\n",
        "    y = np.random.normal(0, 1, n)\n",
        "    value = 1/2 * np.log(2 * np.pi * np.e) + 1/2 * np.log(np.var(y) / n * (n-1)) + 3/n/2\n",
        "    AIC.append(value)\n",
        "    data_list = {'N': n, 'y': y}\n",
        "\n",
        "    stan_model = stan.build(stan_code, data=data_list, random_seed=123)\n",
        "    fit = stan_model.sample(num_samples=6000, num_warmup=1000, num_chains=1)\n",
        "    ms = fit.to_frame()\n",
        "\n",
        "    log_lik = np.column_stack([ms[f'log_lik.{i+1}'] for i in range(n)])\n",
        "    T_stan.append(T_n(log_lik))\n",
        "    V_stan.append(V_n(log_lik))\n",
        "    G_stan.append(G_n(ms['y_pred'], f_true))\n",
        "\n",
        "WAIC_stan = [t_stan + v_stan for t_stan, v_stan in zip(T_stan, V_stan)]\n",
        "U = 0.5 * np.log(2 * np.pi * np.exp(1)) + 1/n/2\n",
        "pre_AIC = [aic - 3/n/2 for aic in AIC]\n"
      ],
      "metadata": {
        "colab": {
          "base_uri": "https://localhost:8080/"
        },
        "id": "T_cx6-ZvpHnj",
        "outputId": "ec21481c-712f-4b3e-df94-12e105f89307"
      },
      "execution_count": 5,
      "outputs": [
        {
          "output_type": "stream",
          "name": "stdout",
          "text": [
            "Building...\n"
          ]
        },
        {
          "output_type": "stream",
          "name": "stderr",
          "text": [
            "\n",
            "Building: 34.7s, done.Messages from stanc:\n",
            "Warning in '/tmp/httpstan_0z5snupw/model_ctkpoim7.stan', line 14, column 2: The\n",
            "    parameter theta is on the left-hand side of more than one tilde\n",
            "    statement.\n",
            "Sampling:   0%\n",
            "Sampling:   0% (1/7000)\n",
            "Sampling:   1% (100/7000)\n",
            "Sampling:   3% (200/7000)\n",
            "Sampling:   4% (300/7000)\n",
            "Sampling:   6% (400/7000)\n",
            "Sampling:   7% (500/7000)\n",
            "Sampling:  10% (700/7000)\n",
            "Sampling:  11% (800/7000)\n",
            "Sampling:  13% (900/7000)\n",
            "Sampling: 100% (7000/7000)\n",
            "Sampling: 100% (7000/7000), done.\n",
            "Messages received during sampling:\n",
            "  Gradient evaluation took 0.000179 seconds\n",
            "  1000 transitions using 10 leapfrog steps per transition would take 1.79 seconds.\n",
            "  Adjust your expectations accordingly!\n"
          ]
        },
        {
          "output_type": "stream",
          "name": "stdout",
          "text": [
            "Building...\n"
          ]
        },
        {
          "output_type": "stream",
          "name": "stderr",
          "text": [
            "<ipython-input-4-8ada2c4bf204>:15: IntegrationWarning: The maximum number of subdivisions (50) has been achieved.\n",
            "  If increasing the limit yields no improvement it is advised to analyze \n",
            "  the integrand in order to determine the difficulties.  If the position of a \n",
            "  local difficulty can be determined (singularity, discontinuity) one will \n",
            "  probably gain from splitting up the interval and calling the integrator \n",
            "  on the subranges.  Perhaps a special-purpose integrator should be used.\n",
            "  ge, _ = quad(f_ge, -6, 6)\n",
            "\n",
            "Building: found in cache, done.Messages from stanc:\n",
            "Warning in '/tmp/httpstan_0z5snupw/model_ctkpoim7.stan', line 14, column 2: The\n",
            "    parameter theta is on the left-hand side of more than one tilde\n",
            "    statement.\n",
            "Sampling:   0%\n",
            "Sampling:   0% (1/7000)\n",
            "Sampling:   1% (100/7000)\n",
            "Sampling:   3% (200/7000)\n",
            "Sampling:   4% (300/7000)\n",
            "Sampling:   6% (400/7000)\n",
            "Sampling:   7% (500/7000)\n",
            "Sampling:   9% (600/7000)\n",
            "Sampling:  10% (700/7000)\n",
            "Sampling:  11% (800/7000)\n",
            "Sampling:  13% (900/7000)\n",
            "Sampling: 100% (7000/7000)\n",
            "Sampling: 100% (7000/7000), done.\n",
            "Messages received during sampling:\n",
            "  Gradient evaluation took 0.000172 seconds\n",
            "  1000 transitions using 10 leapfrog steps per transition would take 1.72 seconds.\n",
            "  Adjust your expectations accordingly!\n"
          ]
        },
        {
          "output_type": "stream",
          "name": "stdout",
          "text": [
            "Building...\n"
          ]
        },
        {
          "output_type": "stream",
          "name": "stderr",
          "text": [
            "\n",
            "Building: found in cache, done.Messages from stanc:\n",
            "Warning in '/tmp/httpstan_0z5snupw/model_ctkpoim7.stan', line 14, column 2: The\n",
            "    parameter theta is on the left-hand side of more than one tilde\n",
            "    statement.\n",
            "Sampling:   0%\n",
            "Sampling:   0% (1/7000)\n",
            "Sampling:   1% (100/7000)\n",
            "Sampling:   3% (200/7000)\n",
            "Sampling:   4% (300/7000)\n",
            "Sampling:   6% (400/7000)\n",
            "Sampling:   7% (500/7000)\n",
            "Sampling:   9% (600/7000)\n",
            "Sampling:  10% (700/7000)\n",
            "Sampling:  11% (800/7000)\n",
            "Sampling:  13% (900/7000)\n",
            "Sampling: 100% (7000/7000)\n",
            "Sampling: 100% (7000/7000), done.\n",
            "Messages received during sampling:\n",
            "  Gradient evaluation took 0.000115 seconds\n",
            "  1000 transitions using 10 leapfrog steps per transition would take 1.15 seconds.\n",
            "  Adjust your expectations accordingly!\n"
          ]
        },
        {
          "output_type": "stream",
          "name": "stdout",
          "text": [
            "Building...\n"
          ]
        },
        {
          "output_type": "stream",
          "name": "stderr",
          "text": [
            "\n",
            "Building: found in cache, done.Messages from stanc:\n",
            "Warning in '/tmp/httpstan_0z5snupw/model_ctkpoim7.stan', line 14, column 2: The\n",
            "    parameter theta is on the left-hand side of more than one tilde\n",
            "    statement.\n",
            "Sampling:   0%\n",
            "Sampling:   0% (1/7000)\n",
            "Sampling:   1% (100/7000)\n",
            "Sampling:   3% (200/7000)\n",
            "Sampling:   6% (400/7000)\n",
            "Sampling:   7% (500/7000)\n",
            "Sampling:   9% (600/7000)\n",
            "Sampling:  10% (700/7000)\n",
            "Sampling:  11% (800/7000)\n",
            "Sampling:  13% (900/7000)\n",
            "Sampling:  59% (4100/7000)\n",
            "Sampling:  60% (4200/7000)\n",
            "Sampling: 100% (7000/7000)\n",
            "Sampling: 100% (7000/7000), done.\n",
            "Messages received during sampling:\n",
            "  Gradient evaluation took 7.4e-05 seconds\n",
            "  1000 transitions using 10 leapfrog steps per transition would take 0.74 seconds.\n",
            "  Adjust your expectations accordingly!\n"
          ]
        },
        {
          "output_type": "stream",
          "name": "stdout",
          "text": [
            "Building...\n"
          ]
        },
        {
          "output_type": "stream",
          "name": "stderr",
          "text": [
            "\n",
            "Building: found in cache, done.Messages from stanc:\n",
            "Warning in '/tmp/httpstan_0z5snupw/model_ctkpoim7.stan', line 14, column 2: The\n",
            "    parameter theta is on the left-hand side of more than one tilde\n",
            "    statement.\n",
            "Sampling:   0%\n",
            "Sampling:   0% (1/7000)\n",
            "Sampling:   1% (100/7000)\n",
            "Sampling:   3% (200/7000)\n",
            "Sampling:   4% (300/7000)\n",
            "Sampling:   6% (400/7000)\n",
            "Sampling:   9% (600/7000)\n",
            "Sampling:  10% (700/7000)\n",
            "Sampling:  11% (800/7000)\n",
            "Sampling:  13% (900/7000)\n",
            "Sampling: 100% (7000/7000)\n",
            "Sampling: 100% (7000/7000), done.\n",
            "Messages received during sampling:\n",
            "  Gradient evaluation took 0.000109 seconds\n",
            "  1000 transitions using 10 leapfrog steps per transition would take 1.09 seconds.\n",
            "  Adjust your expectations accordingly!\n"
          ]
        },
        {
          "output_type": "stream",
          "name": "stdout",
          "text": [
            "Building...\n"
          ]
        },
        {
          "output_type": "stream",
          "name": "stderr",
          "text": [
            "\n",
            "Building: found in cache, done.Messages from stanc:\n",
            "Warning in '/tmp/httpstan_0z5snupw/model_ctkpoim7.stan', line 14, column 2: The\n",
            "    parameter theta is on the left-hand side of more than one tilde\n",
            "    statement.\n",
            "Sampling:   0%\n",
            "Sampling:   0% (1/7000)\n",
            "Sampling:   1% (100/7000)\n",
            "Sampling:   3% (200/7000)\n",
            "Sampling:   4% (300/7000)\n",
            "Sampling:   6% (400/7000)\n",
            "Sampling:   7% (500/7000)\n",
            "Sampling:   9% (600/7000)\n",
            "Sampling:  10% (700/7000)\n",
            "Sampling:  11% (800/7000)\n",
            "Sampling:  13% (900/7000)\n",
            "Sampling: 100% (7000/7000)\n",
            "Sampling: 100% (7000/7000), done.\n",
            "Messages received during sampling:\n",
            "  Gradient evaluation took 0.000111 seconds\n",
            "  1000 transitions using 10 leapfrog steps per transition would take 1.11 seconds.\n",
            "  Adjust your expectations accordingly!\n"
          ]
        },
        {
          "output_type": "stream",
          "name": "stdout",
          "text": [
            "Building...\n"
          ]
        },
        {
          "output_type": "stream",
          "name": "stderr",
          "text": [
            "\n",
            "Building: found in cache, done.Messages from stanc:\n",
            "Warning in '/tmp/httpstan_0z5snupw/model_ctkpoim7.stan', line 14, column 2: The\n",
            "    parameter theta is on the left-hand side of more than one tilde\n",
            "    statement.\n",
            "Sampling:   0%\n",
            "Sampling:   0% (1/7000)\n",
            "Sampling:   1% (100/7000)\n",
            "Sampling:   3% (200/7000)\n",
            "Sampling:   4% (300/7000)\n",
            "Sampling:   6% (400/7000)\n",
            "Sampling:   7% (500/7000)\n",
            "Sampling:   9% (600/7000)\n",
            "Sampling:  10% (700/7000)\n",
            "Sampling:  13% (900/7000)\n",
            "Sampling: 100% (7000/7000)\n",
            "Sampling: 100% (7000/7000), done.\n",
            "Messages received during sampling:\n",
            "  Gradient evaluation took 9.3e-05 seconds\n",
            "  1000 transitions using 10 leapfrog steps per transition would take 0.93 seconds.\n",
            "  Adjust your expectations accordingly!\n"
          ]
        },
        {
          "output_type": "stream",
          "name": "stdout",
          "text": [
            "Building...\n"
          ]
        },
        {
          "output_type": "stream",
          "name": "stderr",
          "text": [
            "\n",
            "Building: found in cache, done.Messages from stanc:\n",
            "Warning in '/tmp/httpstan_0z5snupw/model_ctkpoim7.stan', line 14, column 2: The\n",
            "    parameter theta is on the left-hand side of more than one tilde\n",
            "    statement.\n",
            "Sampling:   0%\n",
            "Sampling:   0% (1/7000)\n",
            "Sampling:   1% (100/7000)\n",
            "Sampling:   3% (200/7000)\n",
            "Sampling:   4% (300/7000)\n",
            "Sampling:   6% (400/7000)\n",
            "Sampling:   7% (500/7000)\n",
            "Sampling:   9% (600/7000)\n",
            "Sampling:  10% (700/7000)\n",
            "Sampling:  11% (800/7000)\n",
            "Sampling:  13% (900/7000)\n",
            "Sampling: 100% (7000/7000)\n",
            "Sampling: 100% (7000/7000), done.\n",
            "Messages received during sampling:\n",
            "  Gradient evaluation took 0.00013 seconds\n",
            "  1000 transitions using 10 leapfrog steps per transition would take 1.3 seconds.\n",
            "  Adjust your expectations accordingly!\n"
          ]
        },
        {
          "output_type": "stream",
          "name": "stdout",
          "text": [
            "Building...\n"
          ]
        },
        {
          "output_type": "stream",
          "name": "stderr",
          "text": [
            "\n",
            "Building: found in cache, done.Messages from stanc:\n",
            "Warning in '/tmp/httpstan_0z5snupw/model_ctkpoim7.stan', line 14, column 2: The\n",
            "    parameter theta is on the left-hand side of more than one tilde\n",
            "    statement.\n",
            "Sampling:   0%\n",
            "Sampling:   0% (1/7000)\n",
            "Sampling:   1% (100/7000)\n",
            "Sampling:   3% (200/7000)\n",
            "Sampling:   4% (300/7000)\n",
            "Sampling:   7% (500/7000)\n",
            "Sampling:   9% (600/7000)\n",
            "Sampling:  10% (700/7000)\n",
            "Sampling:  11% (800/7000)\n",
            "Sampling: 100% (7000/7000)\n",
            "Sampling: 100% (7000/7000), done.\n",
            "Messages received during sampling:\n",
            "  Gradient evaluation took 7.1e-05 seconds\n",
            "  1000 transitions using 10 leapfrog steps per transition would take 0.71 seconds.\n",
            "  Adjust your expectations accordingly!\n"
          ]
        },
        {
          "output_type": "stream",
          "name": "stdout",
          "text": [
            "Building...\n"
          ]
        },
        {
          "output_type": "stream",
          "name": "stderr",
          "text": [
            "\n",
            "Building: found in cache, done.Messages from stanc:\n",
            "Warning in '/tmp/httpstan_0z5snupw/model_ctkpoim7.stan', line 14, column 2: The\n",
            "    parameter theta is on the left-hand side of more than one tilde\n",
            "    statement.\n",
            "Sampling:   0%\n",
            "Sampling:   0% (1/7000)\n",
            "Sampling:   1% (100/7000)\n",
            "Sampling:   3% (200/7000)\n",
            "Sampling:   6% (400/7000)\n",
            "Sampling:   7% (500/7000)\n",
            "Sampling:   9% (600/7000)\n",
            "Sampling:  10% (700/7000)\n",
            "Sampling:  13% (900/7000)\n",
            "Sampling:  20% (1400/7000)\n",
            "Sampling:  21% (1500/7000)\n",
            "Sampling: 100% (7000/7000)\n",
            "Sampling: 100% (7000/7000), done.\n",
            "Messages received during sampling:\n",
            "  Gradient evaluation took 8.8e-05 seconds\n",
            "  1000 transitions using 10 leapfrog steps per transition would take 0.88 seconds.\n",
            "  Adjust your expectations accordingly!\n"
          ]
        },
        {
          "output_type": "stream",
          "name": "stdout",
          "text": [
            "Building...\n"
          ]
        },
        {
          "output_type": "stream",
          "name": "stderr",
          "text": [
            "\n",
            "Building: found in cache, done.Messages from stanc:\n",
            "Warning in '/tmp/httpstan_0z5snupw/model_ctkpoim7.stan', line 14, column 2: The\n",
            "    parameter theta is on the left-hand side of more than one tilde\n",
            "    statement.\n",
            "Sampling:   0%\n",
            "Sampling:   0% (1/7000)\n",
            "Sampling:   1% (100/7000)\n",
            "Sampling:   3% (200/7000)\n",
            "Sampling:   4% (300/7000)\n",
            "Sampling:   6% (400/7000)\n",
            "Sampling:   7% (500/7000)\n",
            "Sampling:   9% (600/7000)\n",
            "Sampling:  10% (700/7000)\n",
            "Sampling:  11% (800/7000)\n",
            "Sampling:  13% (900/7000)\n",
            "Sampling: 100% (7000/7000)\n",
            "Sampling: 100% (7000/7000), done.\n",
            "Messages received during sampling:\n",
            "  Gradient evaluation took 0.000107 seconds\n",
            "  1000 transitions using 10 leapfrog steps per transition would take 1.07 seconds.\n",
            "  Adjust your expectations accordingly!\n"
          ]
        },
        {
          "output_type": "stream",
          "name": "stdout",
          "text": [
            "Building...\n"
          ]
        },
        {
          "output_type": "stream",
          "name": "stderr",
          "text": [
            "\n",
            "Building: found in cache, done.Messages from stanc:\n",
            "Warning in '/tmp/httpstan_0z5snupw/model_ctkpoim7.stan', line 14, column 2: The\n",
            "    parameter theta is on the left-hand side of more than one tilde\n",
            "    statement.\n",
            "Sampling:   0%\n",
            "Sampling:   0% (1/7000)\n",
            "Sampling:   1% (100/7000)\n",
            "Sampling:   3% (200/7000)\n",
            "Sampling:   4% (300/7000)\n",
            "Sampling:   6% (400/7000)\n",
            "Sampling:   7% (500/7000)\n",
            "Sampling:   9% (600/7000)\n",
            "Sampling:  10% (700/7000)\n",
            "Sampling:  11% (800/7000)\n",
            "Sampling:  13% (900/7000)\n",
            "Sampling: 100% (7000/7000)\n",
            "Sampling: 100% (7000/7000), done.\n",
            "Messages received during sampling:\n",
            "  Gradient evaluation took 7.3e-05 seconds\n",
            "  1000 transitions using 10 leapfrog steps per transition would take 0.73 seconds.\n",
            "  Adjust your expectations accordingly!\n"
          ]
        },
        {
          "output_type": "stream",
          "name": "stdout",
          "text": [
            "Building...\n"
          ]
        },
        {
          "output_type": "stream",
          "name": "stderr",
          "text": [
            "\n",
            "Building: found in cache, done.Messages from stanc:\n",
            "Warning in '/tmp/httpstan_0z5snupw/model_ctkpoim7.stan', line 14, column 2: The\n",
            "    parameter theta is on the left-hand side of more than one tilde\n",
            "    statement.\n",
            "Sampling:   0%\n",
            "Sampling:   0% (1/7000)\n",
            "Sampling:   1% (100/7000)\n",
            "Sampling:   3% (200/7000)\n",
            "Sampling:   4% (300/7000)\n",
            "Sampling:   6% (400/7000)\n",
            "Sampling:   7% (500/7000)\n",
            "Sampling:   9% (600/7000)\n",
            "Sampling:  10% (700/7000)\n",
            "Sampling:  11% (800/7000)\n",
            "Sampling:  13% (900/7000)\n",
            "Sampling: 100% (7000/7000)\n",
            "Sampling: 100% (7000/7000), done.\n",
            "Messages received during sampling:\n",
            "  Gradient evaluation took 0.000114 seconds\n",
            "  1000 transitions using 10 leapfrog steps per transition would take 1.14 seconds.\n",
            "  Adjust your expectations accordingly!\n"
          ]
        },
        {
          "output_type": "stream",
          "name": "stdout",
          "text": [
            "Building...\n"
          ]
        },
        {
          "output_type": "stream",
          "name": "stderr",
          "text": [
            "\n",
            "Building: found in cache, done.Messages from stanc:\n",
            "Warning in '/tmp/httpstan_0z5snupw/model_ctkpoim7.stan', line 14, column 2: The\n",
            "    parameter theta is on the left-hand side of more than one tilde\n",
            "    statement.\n",
            "Sampling:   0%\n",
            "Sampling:   0% (1/7000)\n",
            "Sampling:   1% (100/7000)\n",
            "Sampling:   3% (200/7000)\n",
            "Sampling:   4% (300/7000)\n",
            "Sampling:   6% (400/7000)\n",
            "Sampling:   7% (500/7000)\n",
            "Sampling:   9% (600/7000)\n",
            "Sampling:  10% (700/7000)\n",
            "Sampling:  11% (800/7000)\n",
            "Sampling:  13% (900/7000)\n",
            "Sampling: 100% (7000/7000)\n",
            "Sampling: 100% (7000/7000), done.\n",
            "Messages received during sampling:\n",
            "  Gradient evaluation took 9.8e-05 seconds\n",
            "  1000 transitions using 10 leapfrog steps per transition would take 0.98 seconds.\n",
            "  Adjust your expectations accordingly!\n"
          ]
        },
        {
          "output_type": "stream",
          "name": "stdout",
          "text": [
            "Building...\n"
          ]
        },
        {
          "output_type": "stream",
          "name": "stderr",
          "text": [
            "\n",
            "Building: found in cache, done.Messages from stanc:\n",
            "Warning in '/tmp/httpstan_0z5snupw/model_ctkpoim7.stan', line 14, column 2: The\n",
            "    parameter theta is on the left-hand side of more than one tilde\n",
            "    statement.\n",
            "Sampling:   0%\n",
            "Sampling:   0% (1/7000)\n",
            "Sampling:   1% (100/7000)\n",
            "Sampling:   3% (200/7000)\n",
            "Sampling:   4% (300/7000)\n",
            "Sampling:   6% (400/7000)\n",
            "Sampling:   7% (500/7000)\n",
            "Sampling:   9% (600/7000)\n",
            "Sampling:  10% (700/7000)\n",
            "Sampling:  11% (800/7000)\n",
            "Sampling:  13% (900/7000)\n",
            "Sampling: 100% (7000/7000)\n",
            "Sampling: 100% (7000/7000), done.\n",
            "Messages received during sampling:\n",
            "  Gradient evaluation took 7.4e-05 seconds\n",
            "  1000 transitions using 10 leapfrog steps per transition would take 0.74 seconds.\n",
            "  Adjust your expectations accordingly!\n"
          ]
        },
        {
          "output_type": "stream",
          "name": "stdout",
          "text": [
            "Building...\n"
          ]
        },
        {
          "output_type": "stream",
          "name": "stderr",
          "text": [
            "\n",
            "Building: found in cache, done.Messages from stanc:\n",
            "Warning in '/tmp/httpstan_0z5snupw/model_ctkpoim7.stan', line 14, column 2: The\n",
            "    parameter theta is on the left-hand side of more than one tilde\n",
            "    statement.\n",
            "Sampling:   0%\n",
            "Sampling:   0% (1/7000)\n",
            "Sampling:   1% (100/7000)\n",
            "Sampling:   3% (200/7000)\n",
            "Sampling:   4% (300/7000)\n",
            "Sampling:   6% (400/7000)\n",
            "Sampling:   7% (500/7000)\n",
            "Sampling:  10% (700/7000)\n",
            "Sampling:  11% (800/7000)\n",
            "Sampling:  13% (900/7000)\n",
            "Sampling: 100% (7000/7000)\n",
            "Sampling: 100% (7000/7000), done.\n",
            "Messages received during sampling:\n",
            "  Gradient evaluation took 7.2e-05 seconds\n",
            "  1000 transitions using 10 leapfrog steps per transition would take 0.72 seconds.\n",
            "  Adjust your expectations accordingly!\n"
          ]
        },
        {
          "output_type": "stream",
          "name": "stdout",
          "text": [
            "Building...\n"
          ]
        },
        {
          "output_type": "stream",
          "name": "stderr",
          "text": [
            "\n",
            "Building: found in cache, done.Messages from stanc:\n",
            "Warning in '/tmp/httpstan_0z5snupw/model_ctkpoim7.stan', line 14, column 2: The\n",
            "    parameter theta is on the left-hand side of more than one tilde\n",
            "    statement.\n",
            "Sampling:   0%\n",
            "Sampling:   0% (1/7000)\n",
            "Sampling:   1% (100/7000)\n",
            "Sampling:   3% (200/7000)\n",
            "Sampling:   4% (300/7000)\n",
            "Sampling:   6% (400/7000)\n",
            "Sampling:   7% (500/7000)\n",
            "Sampling:   9% (600/7000)\n",
            "Sampling:  10% (700/7000)\n",
            "Sampling:  11% (800/7000)\n",
            "Sampling:  13% (900/7000)\n",
            "Sampling: 100% (7000/7000)\n",
            "Sampling: 100% (7000/7000), done.\n",
            "Messages received during sampling:\n",
            "  Gradient evaluation took 7.5e-05 seconds\n",
            "  1000 transitions using 10 leapfrog steps per transition would take 0.75 seconds.\n",
            "  Adjust your expectations accordingly!\n"
          ]
        },
        {
          "output_type": "stream",
          "name": "stdout",
          "text": [
            "Building...\n"
          ]
        },
        {
          "output_type": "stream",
          "name": "stderr",
          "text": [
            "\n",
            "Building: found in cache, done.Messages from stanc:\n",
            "Warning in '/tmp/httpstan_0z5snupw/model_ctkpoim7.stan', line 14, column 2: The\n",
            "    parameter theta is on the left-hand side of more than one tilde\n",
            "    statement.\n",
            "Sampling:   0%\n",
            "Sampling:   0% (1/7000)\n",
            "Sampling:   1% (100/7000)\n",
            "Sampling:   3% (200/7000)\n",
            "Sampling:   4% (300/7000)\n",
            "Sampling:   6% (400/7000)\n",
            "Sampling:   7% (500/7000)\n",
            "Sampling:   9% (600/7000)\n",
            "Sampling:  10% (700/7000)\n",
            "Sampling:  11% (800/7000)\n",
            "Sampling:  13% (900/7000)\n",
            "Sampling: 100% (7000/7000)\n",
            "Sampling: 100% (7000/7000), done.\n",
            "Messages received during sampling:\n",
            "  Gradient evaluation took 0.000111 seconds\n",
            "  1000 transitions using 10 leapfrog steps per transition would take 1.11 seconds.\n",
            "  Adjust your expectations accordingly!\n"
          ]
        },
        {
          "output_type": "stream",
          "name": "stdout",
          "text": [
            "Building...\n"
          ]
        },
        {
          "output_type": "stream",
          "name": "stderr",
          "text": [
            "\n",
            "Building: found in cache, done.Messages from stanc:\n",
            "Warning in '/tmp/httpstan_0z5snupw/model_ctkpoim7.stan', line 14, column 2: The\n",
            "    parameter theta is on the left-hand side of more than one tilde\n",
            "    statement.\n",
            "Sampling:   0%\n",
            "Sampling:   0% (1/7000)\n",
            "Sampling:   1% (100/7000)\n",
            "Sampling:   3% (200/7000)\n",
            "Sampling:   4% (300/7000)\n",
            "Sampling:   6% (400/7000)\n",
            "Sampling:   7% (500/7000)\n",
            "Sampling:   9% (600/7000)\n",
            "Sampling:  10% (700/7000)\n",
            "Sampling:  11% (800/7000)\n",
            "Sampling:  13% (900/7000)\n",
            "Sampling: 100% (7000/7000)\n",
            "Sampling: 100% (7000/7000), done.\n",
            "Messages received during sampling:\n",
            "  Gradient evaluation took 7.2e-05 seconds\n",
            "  1000 transitions using 10 leapfrog steps per transition would take 0.72 seconds.\n",
            "  Adjust your expectations accordingly!\n"
          ]
        },
        {
          "output_type": "stream",
          "name": "stdout",
          "text": [
            "Building...\n"
          ]
        },
        {
          "output_type": "stream",
          "name": "stderr",
          "text": [
            "\n",
            "Building: found in cache, done.Messages from stanc:\n",
            "Warning in '/tmp/httpstan_0z5snupw/model_ctkpoim7.stan', line 14, column 2: The\n",
            "    parameter theta is on the left-hand side of more than one tilde\n",
            "    statement.\n",
            "Sampling:   0%\n",
            "Sampling:   0% (1/7000)\n",
            "Sampling:   1% (100/7000)\n",
            "Sampling:   3% (200/7000)\n",
            "Sampling:   4% (300/7000)\n",
            "Sampling:   6% (400/7000)\n",
            "Sampling:   7% (500/7000)\n",
            "Sampling:   9% (600/7000)\n",
            "Sampling:  10% (700/7000)\n",
            "Sampling:  11% (800/7000)\n",
            "Sampling:  13% (900/7000)\n",
            "Sampling: 100% (7000/7000)\n",
            "Sampling: 100% (7000/7000), done.\n",
            "Messages received during sampling:\n",
            "  Gradient evaluation took 7.7e-05 seconds\n",
            "  1000 transitions using 10 leapfrog steps per transition would take 0.77 seconds.\n",
            "  Adjust your expectations accordingly!\n"
          ]
        },
        {
          "output_type": "stream",
          "name": "stdout",
          "text": [
            "Building...\n"
          ]
        },
        {
          "output_type": "stream",
          "name": "stderr",
          "text": [
            "\n",
            "Building: found in cache, done.Messages from stanc:\n",
            "Warning in '/tmp/httpstan_0z5snupw/model_ctkpoim7.stan', line 14, column 2: The\n",
            "    parameter theta is on the left-hand side of more than one tilde\n",
            "    statement.\n",
            "Sampling:   0%\n",
            "Sampling:   0% (1/7000)\n",
            "Sampling:   1% (100/7000)\n",
            "Sampling:   3% (200/7000)\n",
            "Sampling:   4% (300/7000)\n",
            "Sampling:   6% (400/7000)\n",
            "Sampling:   7% (500/7000)\n",
            "Sampling:   9% (600/7000)\n",
            "Sampling:  10% (700/7000)\n",
            "Sampling:  11% (800/7000)\n",
            "Sampling:  13% (900/7000)\n",
            "Sampling: 100% (7000/7000)\n",
            "Sampling: 100% (7000/7000), done.\n",
            "Messages received during sampling:\n",
            "  Gradient evaluation took 0.000114 seconds\n",
            "  1000 transitions using 10 leapfrog steps per transition would take 1.14 seconds.\n",
            "  Adjust your expectations accordingly!\n"
          ]
        },
        {
          "output_type": "stream",
          "name": "stdout",
          "text": [
            "Building...\n"
          ]
        },
        {
          "output_type": "stream",
          "name": "stderr",
          "text": [
            "\n",
            "Building: found in cache, done.Messages from stanc:\n",
            "Warning in '/tmp/httpstan_0z5snupw/model_ctkpoim7.stan', line 14, column 2: The\n",
            "    parameter theta is on the left-hand side of more than one tilde\n",
            "    statement.\n",
            "Sampling:   0%\n",
            "Sampling:   0% (1/7000)\n",
            "Sampling:   1% (100/7000)\n",
            "Sampling:   3% (200/7000)\n",
            "Sampling:   4% (300/7000)\n",
            "Sampling:   6% (400/7000)\n",
            "Sampling:   7% (500/7000)\n",
            "Sampling:   9% (600/7000)\n",
            "Sampling:  10% (700/7000)\n",
            "Sampling:  11% (800/7000)\n",
            "Sampling:  13% (900/7000)\n",
            "Sampling: 100% (7000/7000)\n",
            "Sampling: 100% (7000/7000), done.\n",
            "Messages received during sampling:\n",
            "  Gradient evaluation took 7.3e-05 seconds\n",
            "  1000 transitions using 10 leapfrog steps per transition would take 0.73 seconds.\n",
            "  Adjust your expectations accordingly!\n"
          ]
        },
        {
          "output_type": "stream",
          "name": "stdout",
          "text": [
            "Building...\n"
          ]
        },
        {
          "output_type": "stream",
          "name": "stderr",
          "text": [
            "\n",
            "Building: found in cache, done.Messages from stanc:\n",
            "Warning in '/tmp/httpstan_0z5snupw/model_ctkpoim7.stan', line 14, column 2: The\n",
            "    parameter theta is on the left-hand side of more than one tilde\n",
            "    statement.\n",
            "Sampling:   0%\n",
            "Sampling:   0% (1/7000)\n",
            "Sampling:   1% (100/7000)\n",
            "Sampling:   3% (200/7000)\n",
            "Sampling:   4% (300/7000)\n",
            "Sampling:   6% (400/7000)\n",
            "Sampling:   7% (500/7000)\n",
            "Sampling:  10% (700/7000)\n",
            "Sampling:  11% (800/7000)\n",
            "Sampling:  13% (900/7000)\n",
            "Sampling: 100% (7000/7000)\n",
            "Sampling: 100% (7000/7000), done.\n",
            "Messages received during sampling:\n",
            "  Gradient evaluation took 7.3e-05 seconds\n",
            "  1000 transitions using 10 leapfrog steps per transition would take 0.73 seconds.\n",
            "  Adjust your expectations accordingly!\n"
          ]
        },
        {
          "output_type": "stream",
          "name": "stdout",
          "text": [
            "Building...\n"
          ]
        },
        {
          "output_type": "stream",
          "name": "stderr",
          "text": [
            "\n",
            "Building: found in cache, done.Messages from stanc:\n",
            "Warning in '/tmp/httpstan_0z5snupw/model_ctkpoim7.stan', line 14, column 2: The\n",
            "    parameter theta is on the left-hand side of more than one tilde\n",
            "    statement.\n",
            "Sampling:   0%\n",
            "Sampling:   0% (1/7000)\n",
            "Sampling:   1% (100/7000)\n",
            "Sampling:   3% (200/7000)\n",
            "Sampling:   4% (300/7000)\n",
            "Sampling:   6% (400/7000)\n",
            "Sampling:   7% (500/7000)\n",
            "Sampling:   9% (600/7000)\n",
            "Sampling:  10% (700/7000)\n",
            "Sampling:  11% (800/7000)\n",
            "Sampling:  13% (900/7000)\n",
            "Sampling: 100% (7000/7000)\n",
            "Sampling: 100% (7000/7000), done.\n",
            "Messages received during sampling:\n",
            "  Gradient evaluation took 7.1e-05 seconds\n",
            "  1000 transitions using 10 leapfrog steps per transition would take 0.71 seconds.\n",
            "  Adjust your expectations accordingly!\n"
          ]
        },
        {
          "output_type": "stream",
          "name": "stdout",
          "text": [
            "Building...\n"
          ]
        },
        {
          "output_type": "stream",
          "name": "stderr",
          "text": [
            "\n",
            "Building: found in cache, done.Messages from stanc:\n",
            "Warning in '/tmp/httpstan_0z5snupw/model_ctkpoim7.stan', line 14, column 2: The\n",
            "    parameter theta is on the left-hand side of more than one tilde\n",
            "    statement.\n",
            "Sampling:   0%\n",
            "Sampling:   0% (1/7000)\n",
            "Sampling:   1% (100/7000)\n",
            "Sampling:   3% (200/7000)\n",
            "Sampling:   4% (300/7000)\n",
            "Sampling:   6% (400/7000)\n",
            "Sampling:   7% (500/7000)\n",
            "Sampling:   9% (600/7000)\n",
            "Sampling:  10% (700/7000)\n",
            "Sampling:  13% (900/7000)\n",
            "Sampling: 100% (7000/7000)\n",
            "Sampling: 100% (7000/7000), done.\n",
            "Messages received during sampling:\n",
            "  Gradient evaluation took 7.2e-05 seconds\n",
            "  1000 transitions using 10 leapfrog steps per transition would take 0.72 seconds.\n",
            "  Adjust your expectations accordingly!\n"
          ]
        },
        {
          "output_type": "stream",
          "name": "stdout",
          "text": [
            "Building...\n"
          ]
        },
        {
          "output_type": "stream",
          "name": "stderr",
          "text": [
            "\n",
            "Building: found in cache, done.Messages from stanc:\n",
            "Warning in '/tmp/httpstan_0z5snupw/model_ctkpoim7.stan', line 14, column 2: The\n",
            "    parameter theta is on the left-hand side of more than one tilde\n",
            "    statement.\n",
            "Sampling:   0%\n",
            "Sampling:   0% (1/7000)\n",
            "Sampling:   1% (100/7000)\n",
            "Sampling:   3% (200/7000)\n",
            "Sampling:   4% (300/7000)\n",
            "Sampling:   6% (400/7000)\n",
            "Sampling:   9% (600/7000)\n",
            "Sampling:  10% (700/7000)\n",
            "Sampling:  11% (800/7000)\n",
            "Sampling:  13% (900/7000)\n",
            "Sampling: 100% (7000/7000)\n",
            "Sampling: 100% (7000/7000), done.\n",
            "Messages received during sampling:\n",
            "  Gradient evaluation took 7.3e-05 seconds\n",
            "  1000 transitions using 10 leapfrog steps per transition would take 0.73 seconds.\n",
            "  Adjust your expectations accordingly!\n"
          ]
        },
        {
          "output_type": "stream",
          "name": "stdout",
          "text": [
            "Building...\n"
          ]
        },
        {
          "output_type": "stream",
          "name": "stderr",
          "text": [
            "\n",
            "Building: found in cache, done.Messages from stanc:\n",
            "Warning in '/tmp/httpstan_0z5snupw/model_ctkpoim7.stan', line 14, column 2: The\n",
            "    parameter theta is on the left-hand side of more than one tilde\n",
            "    statement.\n",
            "Sampling:   0%\n",
            "Sampling:   0% (1/7000)\n",
            "Sampling:   1% (100/7000)\n",
            "Sampling:   3% (200/7000)\n",
            "Sampling:   4% (300/7000)\n",
            "Sampling:   6% (400/7000)\n",
            "Sampling:   7% (500/7000)\n",
            "Sampling:   9% (600/7000)\n",
            "Sampling:  10% (700/7000)\n",
            "Sampling:  11% (800/7000)\n",
            "Sampling:  13% (900/7000)\n",
            "Sampling: 100% (7000/7000)\n",
            "Sampling: 100% (7000/7000), done.\n",
            "Messages received during sampling:\n",
            "  Gradient evaluation took 7.2e-05 seconds\n",
            "  1000 transitions using 10 leapfrog steps per transition would take 0.72 seconds.\n",
            "  Adjust your expectations accordingly!\n"
          ]
        },
        {
          "output_type": "stream",
          "name": "stdout",
          "text": [
            "Building...\n"
          ]
        },
        {
          "output_type": "stream",
          "name": "stderr",
          "text": [
            "\n",
            "Building: found in cache, done.Messages from stanc:\n",
            "Warning in '/tmp/httpstan_0z5snupw/model_ctkpoim7.stan', line 14, column 2: The\n",
            "    parameter theta is on the left-hand side of more than one tilde\n",
            "    statement.\n",
            "Sampling:   0%\n",
            "Sampling:   0% (1/7000)\n",
            "Sampling:   1% (100/7000)\n",
            "Sampling:   3% (200/7000)\n",
            "Sampling:   4% (300/7000)\n",
            "Sampling:   6% (400/7000)\n",
            "Sampling:   7% (500/7000)\n",
            "Sampling:   9% (600/7000)\n",
            "Sampling:  10% (700/7000)\n",
            "Sampling:  11% (800/7000)\n",
            "Sampling:  13% (900/7000)\n",
            "Sampling: 100% (7000/7000)\n",
            "Sampling: 100% (7000/7000), done.\n",
            "Messages received during sampling:\n",
            "  Gradient evaluation took 7.1e-05 seconds\n",
            "  1000 transitions using 10 leapfrog steps per transition would take 0.71 seconds.\n",
            "  Adjust your expectations accordingly!\n"
          ]
        },
        {
          "output_type": "stream",
          "name": "stdout",
          "text": [
            "Building...\n"
          ]
        },
        {
          "output_type": "stream",
          "name": "stderr",
          "text": [
            "\n",
            "Building: found in cache, done.Messages from stanc:\n",
            "Warning in '/tmp/httpstan_0z5snupw/model_ctkpoim7.stan', line 14, column 2: The\n",
            "    parameter theta is on the left-hand side of more than one tilde\n",
            "    statement.\n",
            "Sampling:   0%\n",
            "Sampling:   0% (1/7000)\n",
            "Sampling:   1% (100/7000)\n",
            "Sampling:   3% (200/7000)\n",
            "Sampling:   4% (300/7000)\n",
            "Sampling:   6% (400/7000)\n",
            "Sampling:   7% (500/7000)\n",
            "Sampling:   9% (600/7000)\n",
            "Sampling:  11% (800/7000)\n",
            "Sampling:  13% (900/7000)\n",
            "Sampling: 100% (7000/7000)\n",
            "Sampling: 100% (7000/7000), done.\n",
            "Messages received during sampling:\n",
            "  Gradient evaluation took 9.9e-05 seconds\n",
            "  1000 transitions using 10 leapfrog steps per transition would take 0.99 seconds.\n",
            "  Adjust your expectations accordingly!\n"
          ]
        },
        {
          "output_type": "stream",
          "name": "stdout",
          "text": [
            "Building...\n"
          ]
        },
        {
          "output_type": "stream",
          "name": "stderr",
          "text": [
            "\n",
            "Building: found in cache, done.Messages from stanc:\n",
            "Warning in '/tmp/httpstan_0z5snupw/model_ctkpoim7.stan', line 14, column 2: The\n",
            "    parameter theta is on the left-hand side of more than one tilde\n",
            "    statement.\n",
            "Sampling:   0%\n",
            "Sampling:   0% (1/7000)\n",
            "Sampling:   1% (100/7000)\n",
            "Sampling:   3% (200/7000)\n",
            "Sampling:   4% (300/7000)\n",
            "Sampling:   6% (400/7000)\n",
            "Sampling:   7% (500/7000)\n",
            "Sampling:   9% (600/7000)\n",
            "Sampling:  10% (700/7000)\n",
            "Sampling:  11% (800/7000)\n",
            "Sampling:  13% (900/7000)\n",
            "Sampling: 100% (7000/7000)\n",
            "Sampling: 100% (7000/7000), done.\n",
            "Messages received during sampling:\n",
            "  Gradient evaluation took 0.000111 seconds\n",
            "  1000 transitions using 10 leapfrog steps per transition would take 1.11 seconds.\n",
            "  Adjust your expectations accordingly!\n"
          ]
        },
        {
          "output_type": "stream",
          "name": "stdout",
          "text": [
            "Building...\n"
          ]
        },
        {
          "output_type": "stream",
          "name": "stderr",
          "text": [
            "\n",
            "Building: found in cache, done.Messages from stanc:\n",
            "Warning in '/tmp/httpstan_0z5snupw/model_ctkpoim7.stan', line 14, column 2: The\n",
            "    parameter theta is on the left-hand side of more than one tilde\n",
            "    statement.\n",
            "Sampling:   0%\n",
            "Sampling:   0% (1/7000)\n",
            "Sampling:   1% (100/7000)\n",
            "Sampling:   3% (200/7000)\n",
            "Sampling:   4% (300/7000)\n",
            "Sampling:   6% (400/7000)\n",
            "Sampling:   7% (500/7000)\n",
            "Sampling:   9% (600/7000)\n",
            "Sampling:  10% (700/7000)\n",
            "Sampling:  11% (800/7000)\n",
            "Sampling:  13% (900/7000)\n",
            "Sampling: 100% (7000/7000)\n",
            "Sampling: 100% (7000/7000), done.\n",
            "Messages received during sampling:\n",
            "  Gradient evaluation took 8.8e-05 seconds\n",
            "  1000 transitions using 10 leapfrog steps per transition would take 0.88 seconds.\n",
            "  Adjust your expectations accordingly!\n"
          ]
        },
        {
          "output_type": "stream",
          "name": "stdout",
          "text": [
            "Building...\n"
          ]
        },
        {
          "output_type": "stream",
          "name": "stderr",
          "text": [
            "\n",
            "Building: found in cache, done.Messages from stanc:\n",
            "Warning in '/tmp/httpstan_0z5snupw/model_ctkpoim7.stan', line 14, column 2: The\n",
            "    parameter theta is on the left-hand side of more than one tilde\n",
            "    statement.\n",
            "Sampling:   0%\n",
            "Sampling:   0% (1/7000)\n",
            "Sampling:   1% (100/7000)\n",
            "Sampling:   3% (200/7000)\n",
            "Sampling:   4% (300/7000)\n",
            "Sampling:   6% (400/7000)\n",
            "Sampling:   7% (500/7000)\n",
            "Sampling:   9% (600/7000)\n",
            "Sampling:  10% (700/7000)\n",
            "Sampling:  11% (800/7000)\n",
            "Sampling:  13% (900/7000)\n",
            "Sampling: 100% (7000/7000)\n",
            "Sampling: 100% (7000/7000), done.\n",
            "Messages received during sampling:\n",
            "  Gradient evaluation took 0.00013 seconds\n",
            "  1000 transitions using 10 leapfrog steps per transition would take 1.3 seconds.\n",
            "  Adjust your expectations accordingly!\n"
          ]
        },
        {
          "output_type": "stream",
          "name": "stdout",
          "text": [
            "Building...\n"
          ]
        },
        {
          "output_type": "stream",
          "name": "stderr",
          "text": [
            "\n",
            "Building: found in cache, done.Messages from stanc:\n",
            "Warning in '/tmp/httpstan_0z5snupw/model_ctkpoim7.stan', line 14, column 2: The\n",
            "    parameter theta is on the left-hand side of more than one tilde\n",
            "    statement.\n",
            "Sampling:   0%\n",
            "Sampling:   0% (1/7000)\n",
            "Sampling:   1% (100/7000)\n",
            "Sampling:   3% (200/7000)\n",
            "Sampling:   4% (300/7000)\n",
            "Sampling:   6% (400/7000)\n",
            "Sampling:   7% (500/7000)\n",
            "Sampling:   9% (600/7000)\n",
            "Sampling:  10% (700/7000)\n",
            "Sampling:  11% (800/7000)\n",
            "Sampling:  13% (900/7000)\n",
            "Sampling: 100% (7000/7000)\n",
            "Sampling: 100% (7000/7000), done.\n",
            "Messages received during sampling:\n",
            "  Gradient evaluation took 7.7e-05 seconds\n",
            "  1000 transitions using 10 leapfrog steps per transition would take 0.77 seconds.\n",
            "  Adjust your expectations accordingly!\n"
          ]
        },
        {
          "output_type": "stream",
          "name": "stdout",
          "text": [
            "Building...\n"
          ]
        },
        {
          "output_type": "stream",
          "name": "stderr",
          "text": [
            "\n",
            "Building: found in cache, done.Messages from stanc:\n",
            "Warning in '/tmp/httpstan_0z5snupw/model_ctkpoim7.stan', line 14, column 2: The\n",
            "    parameter theta is on the left-hand side of more than one tilde\n",
            "    statement.\n",
            "Sampling:   0%\n",
            "Sampling:   0% (1/7000)\n",
            "Sampling:   1% (100/7000)\n",
            "Sampling:   3% (200/7000)\n",
            "Sampling:   4% (300/7000)\n",
            "Sampling:   6% (400/7000)\n",
            "Sampling:   7% (500/7000)\n",
            "Sampling:   9% (600/7000)\n",
            "Sampling:  10% (700/7000)\n",
            "Sampling:  11% (800/7000)\n",
            "Sampling:  13% (900/7000)\n",
            "Sampling: 100% (7000/7000)\n",
            "Sampling: 100% (7000/7000), done.\n",
            "Messages received during sampling:\n",
            "  Gradient evaluation took 7.1e-05 seconds\n",
            "  1000 transitions using 10 leapfrog steps per transition would take 0.71 seconds.\n",
            "  Adjust your expectations accordingly!\n"
          ]
        },
        {
          "output_type": "stream",
          "name": "stdout",
          "text": [
            "Building...\n"
          ]
        },
        {
          "output_type": "stream",
          "name": "stderr",
          "text": [
            "\n",
            "Building: found in cache, done.Messages from stanc:\n",
            "Warning in '/tmp/httpstan_0z5snupw/model_ctkpoim7.stan', line 14, column 2: The\n",
            "    parameter theta is on the left-hand side of more than one tilde\n",
            "    statement.\n",
            "Sampling:   0%\n",
            "Sampling:   0% (1/7000)\n",
            "Sampling:   1% (100/7000)\n",
            "Sampling:   3% (200/7000)\n",
            "Sampling:   4% (300/7000)\n",
            "Sampling:   6% (400/7000)\n",
            "Sampling:   7% (500/7000)\n",
            "Sampling:   9% (600/7000)\n",
            "Sampling:  10% (700/7000)\n",
            "Sampling:  11% (800/7000)\n",
            "Sampling:  13% (900/7000)\n",
            "Sampling: 100% (7000/7000)\n",
            "Sampling: 100% (7000/7000), done.\n",
            "Messages received during sampling:\n",
            "  Gradient evaluation took 0.000104 seconds\n",
            "  1000 transitions using 10 leapfrog steps per transition would take 1.04 seconds.\n",
            "  Adjust your expectations accordingly!\n"
          ]
        },
        {
          "output_type": "stream",
          "name": "stdout",
          "text": [
            "Building...\n"
          ]
        },
        {
          "output_type": "stream",
          "name": "stderr",
          "text": [
            "\n",
            "Building: found in cache, done.Messages from stanc:\n",
            "Warning in '/tmp/httpstan_0z5snupw/model_ctkpoim7.stan', line 14, column 2: The\n",
            "    parameter theta is on the left-hand side of more than one tilde\n",
            "    statement.\n",
            "Sampling:   0%\n",
            "Sampling:   0% (1/7000)\n",
            "Sampling:   1% (100/7000)\n",
            "Sampling:   3% (200/7000)\n",
            "Sampling:   4% (300/7000)\n",
            "Sampling:   6% (400/7000)\n",
            "Sampling:   7% (500/7000)\n",
            "Sampling:   9% (600/7000)\n",
            "Sampling:  10% (700/7000)\n",
            "Sampling:  11% (800/7000)\n",
            "Sampling:  13% (900/7000)\n",
            "Sampling: 100% (7000/7000)\n",
            "Sampling: 100% (7000/7000), done.\n",
            "Messages received during sampling:\n",
            "  Gradient evaluation took 9.6e-05 seconds\n",
            "  1000 transitions using 10 leapfrog steps per transition would take 0.96 seconds.\n",
            "  Adjust your expectations accordingly!\n"
          ]
        },
        {
          "output_type": "stream",
          "name": "stdout",
          "text": [
            "Building...\n"
          ]
        },
        {
          "output_type": "stream",
          "name": "stderr",
          "text": [
            "\n",
            "Building: found in cache, done.Messages from stanc:\n",
            "Warning in '/tmp/httpstan_0z5snupw/model_ctkpoim7.stan', line 14, column 2: The\n",
            "    parameter theta is on the left-hand side of more than one tilde\n",
            "    statement.\n",
            "Sampling:   0%\n",
            "Sampling:   0% (1/7000)\n",
            "Sampling:   1% (100/7000)\n",
            "Sampling:   3% (200/7000)\n",
            "Sampling:   4% (300/7000)\n",
            "Sampling:   6% (400/7000)\n",
            "Sampling:   7% (500/7000)\n",
            "Sampling:   9% (600/7000)\n",
            "Sampling:  10% (700/7000)\n",
            "Sampling:  11% (800/7000)\n",
            "Sampling:  13% (900/7000)\n",
            "Sampling: 100% (7000/7000)\n",
            "Sampling: 100% (7000/7000), done.\n",
            "Messages received during sampling:\n",
            "  Gradient evaluation took 7.1e-05 seconds\n",
            "  1000 transitions using 10 leapfrog steps per transition would take 0.71 seconds.\n",
            "  Adjust your expectations accordingly!\n"
          ]
        },
        {
          "output_type": "stream",
          "name": "stdout",
          "text": [
            "Building...\n"
          ]
        },
        {
          "output_type": "stream",
          "name": "stderr",
          "text": [
            "\n",
            "Building: found in cache, done.Messages from stanc:\n",
            "Warning in '/tmp/httpstan_0z5snupw/model_ctkpoim7.stan', line 14, column 2: The\n",
            "    parameter theta is on the left-hand side of more than one tilde\n",
            "    statement.\n",
            "Sampling:   0%\n",
            "Sampling:   0% (1/7000)\n",
            "Sampling:   1% (100/7000)\n",
            "Sampling:   3% (200/7000)\n",
            "Sampling:   4% (300/7000)\n",
            "Sampling:   6% (400/7000)\n",
            "Sampling:   7% (500/7000)\n",
            "Sampling:   9% (600/7000)\n",
            "Sampling:  10% (700/7000)\n",
            "Sampling:  11% (800/7000)\n",
            "Sampling:  13% (900/7000)\n",
            "Sampling: 100% (7000/7000)\n",
            "Sampling: 100% (7000/7000), done.\n",
            "Messages received during sampling:\n",
            "  Gradient evaluation took 7.2e-05 seconds\n",
            "  1000 transitions using 10 leapfrog steps per transition would take 0.72 seconds.\n",
            "  Adjust your expectations accordingly!\n"
          ]
        },
        {
          "output_type": "stream",
          "name": "stdout",
          "text": [
            "Building...\n"
          ]
        },
        {
          "output_type": "stream",
          "name": "stderr",
          "text": [
            "\n",
            "Building: found in cache, done.Messages from stanc:\n",
            "Warning in '/tmp/httpstan_0z5snupw/model_ctkpoim7.stan', line 14, column 2: The\n",
            "    parameter theta is on the left-hand side of more than one tilde\n",
            "    statement.\n",
            "Sampling:   0%\n",
            "Sampling:   0% (1/7000)\n",
            "Sampling:   1% (100/7000)\n",
            "Sampling:   3% (200/7000)\n",
            "Sampling:   4% (300/7000)\n",
            "Sampling:   7% (500/7000)\n",
            "Sampling:   9% (600/7000)\n",
            "Sampling:  11% (800/7000)\n",
            "Sampling:  13% (900/7000)\n",
            "Sampling: 100% (7000/7000)\n",
            "Sampling: 100% (7000/7000), done.\n",
            "Messages received during sampling:\n",
            "  Gradient evaluation took 7.7e-05 seconds\n",
            "  1000 transitions using 10 leapfrog steps per transition would take 0.77 seconds.\n",
            "  Adjust your expectations accordingly!\n"
          ]
        },
        {
          "output_type": "stream",
          "name": "stdout",
          "text": [
            "Building...\n"
          ]
        },
        {
          "output_type": "stream",
          "name": "stderr",
          "text": [
            "\n",
            "Building: found in cache, done.Messages from stanc:\n",
            "Warning in '/tmp/httpstan_0z5snupw/model_ctkpoim7.stan', line 14, column 2: The\n",
            "    parameter theta is on the left-hand side of more than one tilde\n",
            "    statement.\n",
            "Sampling:   0%\n",
            "Sampling:   0% (1/7000)\n",
            "Sampling:   1% (100/7000)\n",
            "Sampling:   3% (200/7000)\n",
            "Sampling:   4% (300/7000)\n",
            "Sampling:   6% (400/7000)\n",
            "Sampling:   7% (500/7000)\n",
            "Sampling:   9% (600/7000)\n",
            "Sampling:  10% (700/7000)\n",
            "Sampling:  11% (800/7000)\n",
            "Sampling:  13% (900/7000)\n",
            "Sampling: 100% (7000/7000)\n",
            "Sampling: 100% (7000/7000), done.\n",
            "Messages received during sampling:\n",
            "  Gradient evaluation took 0.000112 seconds\n",
            "  1000 transitions using 10 leapfrog steps per transition would take 1.12 seconds.\n",
            "  Adjust your expectations accordingly!\n"
          ]
        },
        {
          "output_type": "stream",
          "name": "stdout",
          "text": [
            "Building...\n"
          ]
        },
        {
          "output_type": "stream",
          "name": "stderr",
          "text": [
            "\n",
            "Building: found in cache, done.Messages from stanc:\n",
            "Warning in '/tmp/httpstan_0z5snupw/model_ctkpoim7.stan', line 14, column 2: The\n",
            "    parameter theta is on the left-hand side of more than one tilde\n",
            "    statement.\n",
            "Sampling:   0%\n",
            "Sampling:   0% (1/7000)\n",
            "Sampling:   1% (100/7000)\n",
            "Sampling:   3% (200/7000)\n",
            "Sampling:   4% (300/7000)\n",
            "Sampling:   6% (400/7000)\n",
            "Sampling:   7% (500/7000)\n",
            "Sampling:   9% (600/7000)\n",
            "Sampling:  10% (700/7000)\n",
            "Sampling:  11% (800/7000)\n",
            "Sampling:  13% (900/7000)\n",
            "Sampling: 100% (7000/7000)\n",
            "Sampling: 100% (7000/7000), done.\n",
            "Messages received during sampling:\n",
            "  Gradient evaluation took 7.3e-05 seconds\n",
            "  1000 transitions using 10 leapfrog steps per transition would take 0.73 seconds.\n",
            "  Adjust your expectations accordingly!\n"
          ]
        },
        {
          "output_type": "stream",
          "name": "stdout",
          "text": [
            "Building...\n"
          ]
        },
        {
          "output_type": "stream",
          "name": "stderr",
          "text": [
            "\n",
            "Building: found in cache, done.Messages from stanc:\n",
            "Warning in '/tmp/httpstan_0z5snupw/model_ctkpoim7.stan', line 14, column 2: The\n",
            "    parameter theta is on the left-hand side of more than one tilde\n",
            "    statement.\n",
            "Sampling:   0%\n",
            "Sampling:   0% (1/7000)\n",
            "Sampling:   1% (100/7000)\n",
            "Sampling:   3% (200/7000)\n",
            "Sampling:   4% (300/7000)\n",
            "Sampling:   6% (400/7000)\n",
            "Sampling:   7% (500/7000)\n",
            "Sampling:   9% (600/7000)\n",
            "Sampling:  10% (700/7000)\n",
            "Sampling:  11% (800/7000)\n",
            "Sampling:  13% (900/7000)\n",
            "Sampling: 100% (7000/7000)\n",
            "Sampling: 100% (7000/7000), done.\n",
            "Messages received during sampling:\n",
            "  Gradient evaluation took 9.9e-05 seconds\n",
            "  1000 transitions using 10 leapfrog steps per transition would take 0.99 seconds.\n",
            "  Adjust your expectations accordingly!\n"
          ]
        },
        {
          "output_type": "stream",
          "name": "stdout",
          "text": [
            "Building...\n"
          ]
        },
        {
          "output_type": "stream",
          "name": "stderr",
          "text": [
            "\n",
            "Building: found in cache, done.Messages from stanc:\n",
            "Warning in '/tmp/httpstan_0z5snupw/model_ctkpoim7.stan', line 14, column 2: The\n",
            "    parameter theta is on the left-hand side of more than one tilde\n",
            "    statement.\n",
            "Sampling:   0%\n",
            "Sampling:   0% (1/7000)\n",
            "Sampling:   1% (100/7000)\n",
            "Sampling:   3% (200/7000)\n",
            "Sampling:   4% (300/7000)\n",
            "Sampling:   6% (400/7000)\n",
            "Sampling:   7% (500/7000)\n",
            "Sampling:   9% (600/7000)\n",
            "Sampling:  10% (700/7000)\n",
            "Sampling:  11% (800/7000)\n",
            "Sampling:  13% (900/7000)\n",
            "Sampling: 100% (7000/7000)\n",
            "Sampling: 100% (7000/7000), done.\n",
            "Messages received during sampling:\n",
            "  Gradient evaluation took 7.6e-05 seconds\n",
            "  1000 transitions using 10 leapfrog steps per transition would take 0.76 seconds.\n",
            "  Adjust your expectations accordingly!\n"
          ]
        },
        {
          "output_type": "stream",
          "name": "stdout",
          "text": [
            "Building...\n"
          ]
        },
        {
          "output_type": "stream",
          "name": "stderr",
          "text": [
            "\n",
            "Building: found in cache, done.Messages from stanc:\n",
            "Warning in '/tmp/httpstan_0z5snupw/model_ctkpoim7.stan', line 14, column 2: The\n",
            "    parameter theta is on the left-hand side of more than one tilde\n",
            "    statement.\n",
            "Sampling:   0%\n",
            "Sampling:   0% (1/7000)\n",
            "Sampling:   1% (100/7000)\n",
            "Sampling:   3% (200/7000)\n",
            "Sampling:   6% (400/7000)\n",
            "Sampling:   7% (500/7000)\n",
            "Sampling:   9% (600/7000)\n",
            "Sampling:  10% (700/7000)\n",
            "Sampling:  11% (800/7000)\n",
            "Sampling:  13% (900/7000)\n",
            "Sampling: 100% (7000/7000)\n",
            "Sampling: 100% (7000/7000), done.\n",
            "Messages received during sampling:\n",
            "  Gradient evaluation took 0.000115 seconds\n",
            "  1000 transitions using 10 leapfrog steps per transition would take 1.15 seconds.\n",
            "  Adjust your expectations accordingly!\n"
          ]
        },
        {
          "output_type": "stream",
          "name": "stdout",
          "text": [
            "Building...\n"
          ]
        },
        {
          "output_type": "stream",
          "name": "stderr",
          "text": [
            "\n",
            "Building: found in cache, done.Messages from stanc:\n",
            "Warning in '/tmp/httpstan_0z5snupw/model_ctkpoim7.stan', line 14, column 2: The\n",
            "    parameter theta is on the left-hand side of more than one tilde\n",
            "    statement.\n",
            "Sampling:   0%\n",
            "Sampling:   0% (1/7000)\n",
            "Sampling:   1% (100/7000)\n",
            "Sampling:   3% (200/7000)\n",
            "Sampling:   4% (300/7000)\n",
            "Sampling:   6% (400/7000)\n",
            "Sampling:   7% (500/7000)\n",
            "Sampling:   9% (600/7000)\n",
            "Sampling:  10% (700/7000)\n",
            "Sampling:  11% (800/7000)\n",
            "Sampling:  13% (900/7000)\n",
            "Sampling: 100% (7000/7000)\n",
            "Sampling: 100% (7000/7000), done.\n",
            "Messages received during sampling:\n",
            "  Gradient evaluation took 7.7e-05 seconds\n",
            "  1000 transitions using 10 leapfrog steps per transition would take 0.77 seconds.\n",
            "  Adjust your expectations accordingly!\n"
          ]
        },
        {
          "output_type": "stream",
          "name": "stdout",
          "text": [
            "Building...\n"
          ]
        },
        {
          "output_type": "stream",
          "name": "stderr",
          "text": [
            "<ipython-input-4-8ada2c4bf204>:15: IntegrationWarning: The occurrence of roundoff error is detected, which prevents \n",
            "  the requested tolerance from being achieved.  The error may be \n",
            "  underestimated.\n",
            "  ge, _ = quad(f_ge, -6, 6)\n",
            "\n",
            "Building: found in cache, done.Messages from stanc:\n",
            "Warning in '/tmp/httpstan_0z5snupw/model_ctkpoim7.stan', line 14, column 2: The\n",
            "    parameter theta is on the left-hand side of more than one tilde\n",
            "    statement.\n",
            "Sampling:   0%\n",
            "Sampling:   0% (1/7000)\n",
            "Sampling:   1% (100/7000)\n",
            "Sampling:   3% (200/7000)\n",
            "Sampling:   4% (300/7000)\n",
            "Sampling:   6% (400/7000)\n",
            "Sampling:   7% (500/7000)\n",
            "Sampling:   9% (600/7000)\n",
            "Sampling:  10% (700/7000)\n",
            "Sampling:  11% (800/7000)\n",
            "Sampling:  13% (900/7000)\n",
            "Sampling: 100% (7000/7000)\n",
            "Sampling: 100% (7000/7000), done.\n",
            "Messages received during sampling:\n",
            "  Gradient evaluation took 9.5e-05 seconds\n",
            "  1000 transitions using 10 leapfrog steps per transition would take 0.95 seconds.\n",
            "  Adjust your expectations accordingly!\n"
          ]
        },
        {
          "output_type": "stream",
          "name": "stdout",
          "text": [
            "Building...\n"
          ]
        },
        {
          "output_type": "stream",
          "name": "stderr",
          "text": [
            "\n",
            "Building: found in cache, done.Messages from stanc:\n",
            "Warning in '/tmp/httpstan_0z5snupw/model_ctkpoim7.stan', line 14, column 2: The\n",
            "    parameter theta is on the left-hand side of more than one tilde\n",
            "    statement.\n",
            "Sampling:   0%\n",
            "Sampling:   0% (1/7000)\n",
            "Sampling:   1% (100/7000)\n",
            "Sampling:   3% (200/7000)\n",
            "Sampling:   6% (400/7000)\n",
            "Sampling:   7% (500/7000)\n",
            "Sampling:  10% (700/7000)\n",
            "Sampling:  11% (800/7000)\n",
            "Sampling:  13% (900/7000)\n",
            "Sampling: 100% (7000/7000)\n",
            "Sampling: 100% (7000/7000), done.\n",
            "Messages received during sampling:\n",
            "  Gradient evaluation took 0.000107 seconds\n",
            "  1000 transitions using 10 leapfrog steps per transition would take 1.07 seconds.\n",
            "  Adjust your expectations accordingly!\n"
          ]
        },
        {
          "output_type": "stream",
          "name": "stdout",
          "text": [
            "Building...\n"
          ]
        },
        {
          "output_type": "stream",
          "name": "stderr",
          "text": [
            "\n",
            "Building: found in cache, done.Messages from stanc:\n",
            "Warning in '/tmp/httpstan_0z5snupw/model_ctkpoim7.stan', line 14, column 2: The\n",
            "    parameter theta is on the left-hand side of more than one tilde\n",
            "    statement.\n",
            "Sampling:   0%\n",
            "Sampling:   0% (1/7000)\n",
            "Sampling:   1% (100/7000)\n",
            "Sampling:   3% (200/7000)\n",
            "Sampling:   4% (300/7000)\n",
            "Sampling:   6% (400/7000)\n",
            "Sampling:   7% (500/7000)\n",
            "Sampling:   9% (600/7000)\n",
            "Sampling:  10% (700/7000)\n",
            "Sampling:  11% (800/7000)\n",
            "Sampling:  13% (900/7000)\n",
            "Sampling: 100% (7000/7000)\n",
            "Sampling: 100% (7000/7000), done.\n",
            "Messages received during sampling:\n",
            "  Gradient evaluation took 0.000115 seconds\n",
            "  1000 transitions using 10 leapfrog steps per transition would take 1.15 seconds.\n",
            "  Adjust your expectations accordingly!\n",
            "  Informational Message: The current Metropolis proposal is about to be rejected because of the following issue:\n",
            "  Exception: normal_lpdf: Location parameter is inf, but must be finite! (in '/tmp/httpstan_sj7f376g/model_ctkpoim7.stan', line 16, column 4 to line 18, column 36)\n",
            "  If this warning occurs sporadically, such as for highly constrained variable types like covariance matrices, then the sampler is fine,\n",
            "  but if this warning occurs often then your model may be either severely ill-conditioned or misspecified.\n"
          ]
        },
        {
          "output_type": "stream",
          "name": "stdout",
          "text": [
            "Building...\n"
          ]
        },
        {
          "output_type": "stream",
          "name": "stderr",
          "text": [
            "\n",
            "Building: found in cache, done.Messages from stanc:\n",
            "Warning in '/tmp/httpstan_0z5snupw/model_ctkpoim7.stan', line 14, column 2: The\n",
            "    parameter theta is on the left-hand side of more than one tilde\n",
            "    statement.\n",
            "Sampling:   0%\n",
            "Sampling:   0% (1/7000)\n",
            "Sampling:   1% (100/7000)\n",
            "Sampling:   3% (200/7000)\n",
            "Sampling:   4% (300/7000)\n",
            "Sampling:   6% (400/7000)\n",
            "Sampling:   7% (500/7000)\n",
            "Sampling:   9% (600/7000)\n",
            "Sampling:  10% (700/7000)\n",
            "Sampling:  11% (800/7000)\n",
            "Sampling:  13% (900/7000)\n",
            "Sampling: 100% (7000/7000)\n",
            "Sampling: 100% (7000/7000), done.\n",
            "Messages received during sampling:\n",
            "  Gradient evaluation took 0.000122 seconds\n",
            "  1000 transitions using 10 leapfrog steps per transition would take 1.22 seconds.\n",
            "  Adjust your expectations accordingly!\n"
          ]
        },
        {
          "output_type": "stream",
          "name": "stdout",
          "text": [
            "Building...\n"
          ]
        },
        {
          "output_type": "stream",
          "name": "stderr",
          "text": [
            "\n",
            "Building: found in cache, done.Messages from stanc:\n",
            "Warning in '/tmp/httpstan_0z5snupw/model_ctkpoim7.stan', line 14, column 2: The\n",
            "    parameter theta is on the left-hand side of more than one tilde\n",
            "    statement.\n",
            "Sampling:   0%\n",
            "Sampling:   0% (1/7000)\n",
            "Sampling:   1% (100/7000)\n",
            "Sampling:   3% (200/7000)\n",
            "Sampling:   4% (300/7000)\n",
            "Sampling:   6% (400/7000)\n",
            "Sampling:   7% (500/7000)\n",
            "Sampling:   9% (600/7000)\n",
            "Sampling:  10% (700/7000)\n",
            "Sampling:  11% (800/7000)\n",
            "Sampling:  13% (900/7000)\n",
            "Sampling: 100% (7000/7000)\n",
            "Sampling: 100% (7000/7000), done.\n",
            "Messages received during sampling:\n",
            "  Gradient evaluation took 7.2e-05 seconds\n",
            "  1000 transitions using 10 leapfrog steps per transition would take 0.72 seconds.\n",
            "  Adjust your expectations accordingly!\n"
          ]
        }
      ]
    },
    {
      "cell_type": "code",
      "source": [
        "plt.boxplot([G_stan, T_stan], labels=['$G_n$', '$T_n$'])\n",
        "plt.title('$G_n$, $T_n$ boxplot(n=200)')\n",
        "plt.axhline(y=U, color='red')\n",
        "plt.show()"
      ],
      "metadata": {
        "colab": {
          "base_uri": "https://localhost:8080/",
          "height": 457
        },
        "id": "aYUdqwQPUxzG",
        "outputId": "08d57fee-7f0f-4795-ba6f-535ed30f10b9"
      },
      "execution_count": 6,
      "outputs": [
        {
          "output_type": "display_data",
          "data": {
            "text/plain": [
              "<Figure size 640x480 with 1 Axes>"
            ],
            "image/png": "[encoded data removed]"
          },
          "metadata": {}
        }
      ]
    },
    {
      "cell_type": "code",
      "source": [
        "plt.scatter(AIC, WAIC_stan, color='red', marker='^')\n",
        "plt.xlabel('AIC')\n",
        "plt.ylabel('WAIC')\n",
        "plt.title('AIC and WAIC')\n",
        "plt.show()"
      ],
      "metadata": {
        "colab": {
          "base_uri": "https://localhost:8080/",
          "height": 472
        },
        "id": "aExyvAFkU4As",
        "outputId": "c00258c3-8753-4721-c40a-bcf8ff7ba404"
      },
      "execution_count": 7,
      "outputs": [
        {
          "output_type": "display_data",
          "data": {
            "text/plain": [
              "<Figure size 640x480 with 1 Axes>"
            ],
            "image/png": "[encoded data removed]"
          },
          "metadata": {}
        }
      ]
    },
    {
      "cell_type": "code",
      "source": [
        "plt.scatter(pre_AIC, T_stan, color='red', marker='x')\n",
        "plt.xlabel('AIC')\n",
        "plt.ylabel('WAIC')\n",
        "plt.title('AIC and WAIC term1')\n",
        "plt.show()"
      ],
      "metadata": {
        "colab": {
          "base_uri": "https://localhost:8080/",
          "height": 472
        },
        "id": "IrvuocVDU6yK",
        "outputId": "9fa098a8-f8ca-4e5d-ee2c-9de011828d61"
      },
      "execution_count": 8,
      "outputs": [
        {
          "output_type": "display_data",
          "data": {
            "text/plain": [
              "<Figure size 640x480 with 1 Axes>"
            ],
            "image/png": "[encoded data removed]"
          },
          "metadata": {}
        }
      ]
    },
    {
      "cell_type": "markdown",
      "source": [
        "## 問題64"
      ],
      "metadata": {
        "id": "1IkQ0z56pTco"
      }
    },
    {
      "cell_type": "code",
      "source": [
        "def F(n, k):\n",
        "  return -np.log(math.factorial(n-k) * math.factorial(k) / math.factorial(n+1))\n",
        "\n",
        "m = 500\n",
        "n = 100\n",
        "T = []\n",
        "for j in range(m):\n",
        "  k = np.random.binomial(n=n, p=0.25)\n",
        "  T.append(F(n, k))\n",
        "\n",
        "kde = gaussian_kde(T)\n",
        "x = np.linspace(min(T), max(T), 1000)\n",
        "\n",
        "plt.plot(x, kde(x), color='red')\n",
        "plt.title('Free energy (standard normal distribution)')\n",
        "plt.xlabel('$F_n$')\n",
        "plt.ylabel('probability density')\n",
        "plt.show()"
      ],
      "metadata": {
        "colab": {
          "base_uri": "https://localhost:8080/",
          "height": 474
        },
        "id": "zkFglhp9Xe2K",
        "outputId": "1306e69f-cef4-4a5e-c7a2-dba103cc15cc"
      },
      "execution_count": null,
      "outputs": [
        {
          "output_type": "display_data",
          "data": {
            "text/plain": [
              "<Figure size 640x480 with 1 Axes>"
            ],
            "image/png": "[encoded data removed]"
          },
          "metadata": {}
        }
      ]
    },
    {
      "cell_type": "markdown",
      "source": [
        "## 問題66"
      ],
      "metadata": {
        "id": "_NiyUdtCpY4q"
      }
    },
    {
      "cell_type": "code",
      "source": [
        "from scipy.linalg import solve\n",
        "# sklearn1.2からload_bostonは削除されたのでバージョンを下げる\n",
        "!pip install scikit-learn==1.1.0\n",
        "from sklearn.datasets import load_boston"
      ],
      "metadata": {
        "colab": {
          "base_uri": "https://localhost:8080/"
        },
        "id": "_6MvntulowCX",
        "outputId": "ce0ab1f5-6cce-4c09-a9e4-ecaa4d880849"
      },
      "execution_count": null,
      "outputs": [
        {
          "output_type": "stream",
          "name": "stdout",
          "text": [
            "Requirement already satisfied: scikit-learn==1.1.0 in /usr/local/lib/python3.10/dist-packages (1.1.0)\n",
            "Requirement already satisfied: numpy>=1.17.3 in /usr/local/lib/python3.10/dist-packages (from scikit-learn==1.1.0) (1.25.2)\n",
            "Requirement already satisfied: scipy>=1.3.2 in /usr/local/lib/python3.10/dist-packages (from scikit-learn==1.1.0) (1.11.4)\n",
            "Requirement already satisfied: joblib>=1.0.0 in /usr/local/lib/python3.10/dist-packages (from scikit-learn==1.1.0) (1.4.2)\n",
            "Requirement already satisfied: threadpoolctl>=2.0.0 in /usr/local/lib/python3.10/dist-packages (from scikit-learn==1.1.0) (3.5.0)\n"
          ]
        }
      ]
    },
    {
      "cell_type": "code",
      "source": [
        "boston = load_boston()"
      ],
      "metadata": {
        "id": "Uioef6qwo-Sa",
        "colab": {
          "base_uri": "https://localhost:8080/"
        },
        "outputId": "66108d18-dc78-4949-fe26-df2e23c60823"
      },
      "execution_count": null,
      "outputs": [
        {
          "output_type": "stream",
          "name": "stderr",
          "text": [
            "/usr/local/lib/python3.10/dist-packages/sklearn/utils/deprecation.py:87: FutureWarning: Function load_boston is deprecated; `load_boston` is deprecated in 1.0 and will be removed in 1.2.\n",
            "\n",
            "    The Boston housing prices dataset has an ethical problem. You can refer to\n",
            "    the documentation of this function for further details.\n",
            "\n",
            "    The scikit-learn maintainers therefore strongly discourage the use of this\n",
            "    dataset unless the purpose of the code is to study and educate about\n",
            "    ethical issues in data science and machine learning.\n",
            "\n",
            "    In this special case, you can fetch the dataset from the original\n",
            "    source::\n",
            "\n",
            "        import pandas as pd\n",
            "        import numpy as np\n",
            "\n",
            "        data_url = \"http://lib.stat.cmu.edu/datasets/boston\"\n",
            "        raw_df = pd.read_csv(data_url, sep=\"\\s+\", skiprows=22, header=None)\n",
            "        data = np.hstack([raw_df.values[::2, :], raw_df.values[1::2, :2]])\n",
            "        target = raw_df.values[1::2, 2]\n",
            "\n",
            "    Alternative datasets include the California housing dataset (i.e.\n",
            "    :func:`~sklearn.datasets.fetch_california_housing`) and the Ames housing\n",
            "    dataset. You can load the datasets as follows::\n",
            "\n",
            "        from sklearn.datasets import fetch_california_housing\n",
            "        housing = fetch_california_housing()\n",
            "\n",
            "    for the California housing dataset and::\n",
            "\n",
            "        from sklearn.datasets import fetch_openml\n",
            "        housing = fetch_openml(name=\"house_prices\", as_frame=True)\n",
            "\n",
            "    for the Ames housing dataset.\n",
            "  warnings.warn(msg, category=FutureWarning)\n"
          ]
        }
      ]
    },
    {
      "cell_type": "code",
      "source": [
        "df = pd.DataFrame(boston.data, columns=boston.feature_names)\n",
        "df.head()"
      ],
      "metadata": {
        "colab": {
          "base_uri": "https://localhost:8080/",
          "height": 206
        },
        "id": "L7JNKKnmdTEp",
        "outputId": "5dbdfc55-3da6-45bb-cc4a-2d45d573d4dc"
      },
      "execution_count": null,
      "outputs": [
        {
          "output_type": "execute_result",
          "data": {
            "text/plain": [
              "      CRIM    ZN  INDUS  CHAS    NOX     RM   AGE     DIS  RAD    TAX  \\\n",
              "0  0.00632  18.0   2.31   0.0  0.538  6.575  65.2  4.0900  1.0  296.0   \n",
              "1  0.02731   0.0   7.07   0.0  0.469  6.421  78.9  4.9671  2.0  242.0   \n",
              "2  0.02729   0.0   7.07   0.0  0.469  7.185  61.1  4.9671  2.0  242.0   \n",
              "3  0.03237   0.0   2.18   0.0  0.458  6.998  45.8  6.0622  3.0  222.0   \n",
              "4  0.06905   0.0   2.18   0.0  0.458  7.147  54.2  6.0622  3.0  222.0   \n",
              "\n",
              "   PTRATIO       B  LSTAT  \n",
              "0     15.3  396.90   4.98  \n",
              "1     17.8  396.90   9.14  \n",
              "2     17.8  392.83   4.03  \n",
              "3     18.7  394.63   2.94  \n",
              "4     18.7  396.90   5.33  "
            ],
            "text/html": [
              "\n",
              "  <div id=\"df-39b55528-33d3-4473-81d4-79a2f3d46b01\" class=\"colab-df-container\">\n",
              "    <div>\n",
              "<style scoped>\n",
              "    .dataframe tbody tr th:only-of-type {\n",
              "        vertical-align: middle;\n",
              "    }\n",
              "\n",
              "    .dataframe tbody tr th {\n",
              "        vertical-align: top;\n",
              "    }\n",
              "\n",
              "    .dataframe thead th {\n",
              "        text-align: right;\n",
              "    }\n",
              "</style>\n",
              "<table border=\"1\" class=\"dataframe\">\n",
              "  <thead>\n",
              "    <tr style=\"text-align: right;\">\n",
              "      <th></th>\n",
              "      <th>CRIM</th>\n",
              "      <th>ZN</th>\n",
              "      <th>INDUS</th>\n",
              "      <th>CHAS</th>\n",
              "      <th>NOX</th>\n",
              "      <th>RM</th>\n",
              "      <th>AGE</th>\n",
              "      <th>DIS</th>\n",
              "      <th>RAD</th>\n",
              "      <th>TAX</th>\n",
              "      <th>PTRATIO</th>\n",
              "      <th>B</th>\n",
              "      <th>LSTAT</th>\n",
              "    </tr>\n",
              "  </thead>\n",
              "  <tbody>\n",
              "    <tr>\n",
              "      <th>0</th>\n",
              "      <td>0.00632</td>\n",
              "      <td>18.0</td>\n",
              "      <td>2.31</td>\n",
              "      <td>0.0</td>\n",
              "      <td>0.538</td>\n",
              "      <td>6.575</td>\n",
              "      <td>65.2</td>\n",
              "      <td>4.0900</td>\n",
              "      <td>1.0</td>\n",
              "      <td>296.0</td>\n",
              "      <td>15.3</td>\n",
              "      <td>396.90</td>\n",
              "      <td>4.98</td>\n",
              "    </tr>\n",
              "    <tr>\n",
              "      <th>1</th>\n",
              "      <td>0.02731</td>\n",
              "      <td>0.0</td>\n",
              "      <td>7.07</td>\n",
              "      <td>0.0</td>\n",
              "      <td>0.469</td>\n",
              "      <td>6.421</td>\n",
              "      <td>78.9</td>\n",
              "      <td>4.9671</td>\n",
              "      <td>2.0</td>\n",
              "      <td>242.0</td>\n",
              "      <td>17.8</td>\n",
              "      <td>396.90</td>\n",
              "      <td>9.14</td>\n",
              "    </tr>\n",
              "    <tr>\n",
              "      <th>2</th>\n",
              "      <td>0.02729</td>\n",
              "      <td>0.0</td>\n",
              "      <td>7.07</td>\n",
              "      <td>0.0</td>\n",
              "      <td>0.469</td>\n",
              "      <td>7.185</td>\n",
              "      <td>61.1</td>\n",
              "      <td>4.9671</td>\n",
              "      <td>2.0</td>\n",
              "      <td>242.0</td>\n",
              "      <td>17.8</td>\n",
              "      <td>392.83</td>\n",
              "      <td>4.03</td>\n",
              "    </tr>\n",
              "    <tr>\n",
              "      <th>3</th>\n",
              "      <td>0.03237</td>\n",
              "      <td>0.0</td>\n",
              "      <td>2.18</td>\n",
              "      <td>0.0</td>\n",
              "      <td>0.458</td>\n",
              "      <td>6.998</td>\n",
              "      <td>45.8</td>\n",
              "      <td>6.0622</td>\n",
              "      <td>3.0</td>\n",
              "      <td>222.0</td>\n",
              "      <td>18.7</td>\n",
              "      <td>394.63</td>\n",
              "      <td>2.94</td>\n",
              "    </tr>\n",
              "    <tr>\n",
              "      <th>4</th>\n",
              "      <td>0.06905</td>\n",
              "      <td>0.0</td>\n",
              "      <td>2.18</td>\n",
              "      <td>0.0</td>\n",
              "      <td>0.458</td>\n",
              "      <td>7.147</td>\n",
              "      <td>54.2</td>\n",
              "      <td>6.0622</td>\n",
              "      <td>3.0</td>\n",
              "      <td>222.0</td>\n",
              "      <td>18.7</td>\n",
              "      <td>396.90</td>\n",
              "      <td>5.33</td>\n",
              "    </tr>\n",
              "  </tbody>\n",
              "</table>\n",
              "</div>\n",
              "    <div class=\"colab-df-buttons\">\n",
              "\n",
              "  <div class=\"colab-df-container\">\n",
              "    <button class=\"colab-df-convert\" onclick=\"convertToInteractive('df-39b55528-33d3-4473-81d4-79a2f3d46b01')\"\n",
              "            title=\"Convert this dataframe to an interactive table.\"\n",
              "            style=\"display:none;\">\n",
              "\n",
              "  <svg xmlns=\"http://www.w3.org/2000/svg\" height=\"24px\" viewBox=\"0 -960 960 960\">\n",
              "    <path d=\"M120-120v-720h720v720H120Zm60-500h600v-160H180v160Zm220 220h160v-160H400v160Zm0 220h160v-160H400v160ZM180-400h160v-160H180v160Zm440 0h160v-160H620v160ZM180-180h160v-160H180v160Zm440 0h160v-160H620v160Z\"/>\n",
              "  </svg>\n",
              "    </button>\n",
              "\n",
              "  <style>\n",
              "    .colab-df-container {\n",
              "      display:flex;\n",
              "      gap: 12px;\n",
              "    }\n",
              "\n",
              "    .colab-df-convert {\n",
              "      background-color: #E8F0FE;\n",
              "      border: none;\n",
              "      border-radius: 50%;\n",
              "      cursor: pointer;\n",
              "      display: none;\n",
              "      fill: #1967D2;\n",
              "      height: 32px;\n",
              "      padding: 0 0 0 0;\n",
              "      width: 32px;\n",
              "    }\n",
              "\n",
              "    .colab-df-convert:hover {\n",
              "      background-color: #E2EBFA;\n",
              "      box-shadow: 0px 1px 2px rgba(60, 64, 67, 0.3), 0px 1px 3px 1px rgba(60, 64, 67, 0.15);\n",
              "      fill: #174EA6;\n",
              "    }\n",
              "\n",
              "    .colab-df-buttons div {\n",
              "      margin-bottom: 4px;\n",
              "    }\n",
              "\n",
              "    [theme=dark] .colab-df-convert {\n",
              "      background-color: #3B4455;\n",
              "      fill: #D2E3FC;\n",
              "    }\n",
              "\n",
              "    [theme=dark] .colab-df-convert:hover {\n",
              "      background-color: #434B5C;\n",
              "      box-shadow: 0px 1px 3px 1px rgba(0, 0, 0, 0.15);\n",
              "      filter: drop-shadow(0px 1px 2px rgba(0, 0, 0, 0.3));\n",
              "      fill: #FFFFFF;\n",
              "    }\n",
              "  </style>\n",
              "\n",
              "    <script>\n",
              "      const buttonEl =\n",
              "        document.querySelector('#df-39b55528-33d3-4473-81d4-79a2f3d46b01 button.colab-df-convert');\n",
              "      buttonEl.style.display =\n",
              "        google.colab.kernel.accessAllowed ? 'block' : 'none';\n",
              "\n",
              "      async function convertToInteractive(key) {\n",
              "        const element = document.querySelector('#df-39b55528-33d3-4473-81d4-79a2f3d46b01');\n",
              "        const dataTable =\n",
              "          await google.colab.kernel.invokeFunction('convertToInteractive',\n",
              "                                                    [key], {});\n",
              "        if (!dataTable) return;\n",
              "\n",
              "        const docLinkHtml = 'Like what you see? Visit the ' +\n",
              "          '<a target=\"_blank\" href=https://colab.research.google.com/notebooks/data_table.ipynb>data table notebook</a>'\n",
              "          + ' to learn more about interactive tables.';\n",
              "        element.innerHTML = '';\n",
              "        dataTable['output_type'] = 'display_data';\n",
              "        await google.colab.output.renderOutput(dataTable, element);\n",
              "        const docLink = document.createElement('div');\n",
              "        docLink.innerHTML = docLinkHtml;\n",
              "        element.appendChild(docLink);\n",
              "      }\n",
              "    </script>\n",
              "  </div>\n",
              "\n",
              "\n",
              "<div id=\"df-beb650fd-ff3b-43d7-a757-363100893f25\">\n",
              "  <button class=\"colab-df-quickchart\" onclick=\"quickchart('df-beb650fd-ff3b-43d7-a757-363100893f25')\"\n",
              "            title=\"Suggest charts\"\n",
              "            style=\"display:none;\">\n",
              "\n",
              "<svg xmlns=\"http://www.w3.org/2000/svg\" height=\"24px\"viewBox=\"0 0 24 24\"\n",
              "     width=\"24px\">\n",
              "    <g>\n",
              "        <path d=\"M19 3H5c-1.1 0-2 .9-2 2v14c0 1.1.9 2 2 2h14c1.1 0 2-.9 2-2V5c0-1.1-.9-2-2-2zM9 17H7v-7h2v7zm4 0h-2V7h2v10zm4 0h-2v-4h2v4z\"/>\n",
              "    </g>\n",
              "</svg>\n",
              "  </button>\n",
              "\n",
              "<style>\n",
              "  .colab-df-quickchart {\n",
              "      --bg-color: #E8F0FE;\n",
              "      --fill-color: #1967D2;\n",
              "      --hover-bg-color: #E2EBFA;\n",
              "      --hover-fill-color: #174EA6;\n",
              "      --disabled-fill-color: #AAA;\n",
              "      --disabled-bg-color: #DDD;\n",
              "  }\n",
              "\n",
              "  [theme=dark] .colab-df-quickchart {\n",
              "      --bg-color: #3B4455;\n",
              "      --fill-color: #D2E3FC;\n",
              "      --hover-bg-color: #434B5C;\n",
              "      --hover-fill-color: #FFFFFF;\n",
              "      --disabled-bg-color: #3B4455;\n",
              "      --disabled-fill-color: #666;\n",
              "  }\n",
              "\n",
              "  .colab-df-quickchart {\n",
              "    background-color: var(--bg-color);\n",
              "    border: none;\n",
              "    border-radius: 50%;\n",
              "    cursor: pointer;\n",
              "    display: none;\n",
              "    fill: var(--fill-color);\n",
              "    height: 32px;\n",
              "    padding: 0;\n",
              "    width: 32px;\n",
              "  }\n",
              "\n",
              "  .colab-df-quickchart:hover {\n",
              "    background-color: var(--hover-bg-color);\n",
              "    box-shadow: 0 1px 2px rgba(60, 64, 67, 0.3), 0 1px 3px 1px rgba(60, 64, 67, 0.15);\n",
              "    fill: var(--button-hover-fill-color);\n",
              "  }\n",
              "\n",
              "  .colab-df-quickchart-complete:disabled,\n",
              "  .colab-df-quickchart-complete:disabled:hover {\n",
              "    background-color: var(--disabled-bg-color);\n",
              "    fill: var(--disabled-fill-color);\n",
              "    box-shadow: none;\n",
              "  }\n",
              "\n",
              "  .colab-df-spinner {\n",
              "    border: 2px solid var(--fill-color);\n",
              "    border-color: transparent;\n",
              "    border-bottom-color: var(--fill-color);\n",
              "    animation:\n",
              "      spin 1s steps(1) infinite;\n",
              "  }\n",
              "\n",
              "  @keyframes spin {\n",
              "    0% {\n",
              "      border-color: transparent;\n",
              "      border-bottom-color: var(--fill-color);\n",
              "      border-left-color: var(--fill-color);\n",
              "    }\n",
              "    20% {\n",
              "      border-color: transparent;\n",
              "      border-left-color: var(--fill-color);\n",
              "      border-top-color: var(--fill-color);\n",
              "    }\n",
              "    30% {\n",
              "      border-color: transparent;\n",
              "      border-left-color: var(--fill-color);\n",
              "      border-top-color: var(--fill-color);\n",
              "      border-right-color: var(--fill-color);\n",
              "    }\n",
              "    40% {\n",
              "      border-color: transparent;\n",
              "      border-right-color: var(--fill-color);\n",
              "      border-top-color: var(--fill-color);\n",
              "    }\n",
              "    60% {\n",
              "      border-color: transparent;\n",
              "      border-right-color: var(--fill-color);\n",
              "    }\n",
              "    80% {\n",
              "      border-color: transparent;\n",
              "      border-right-color: var(--fill-color);\n",
              "      border-bottom-color: var(--fill-color);\n",
              "    }\n",
              "    90% {\n",
              "      border-color: transparent;\n",
              "      border-bottom-color: var(--fill-color);\n",
              "    }\n",
              "  }\n",
              "</style>\n",
              "\n",
              "  <script>\n",
              "    async function quickchart(key) {\n",
              "      const quickchartButtonEl =\n",
              "        document.querySelector('#' + key + ' button');\n",
              "      quickchartButtonEl.disabled = true;  // To prevent multiple clicks.\n",
              "      quickchartButtonEl.classList.add('colab-df-spinner');\n",
              "      try {\n",
              "        const charts = await google.colab.kernel.invokeFunction(\n",
              "            'suggestCharts', [key], {});\n",
              "      } catch (error) {\n",
              "        console.error('Error during call to suggestCharts:', error);\n",
              "      }\n",
              "      quickchartButtonEl.classList.remove('colab-df-spinner');\n",
              "      quickchartButtonEl.classList.add('colab-df-quickchart-complete');\n",
              "    }\n",
              "    (() => {\n",
              "      let quickchartButtonEl =\n",
              "        document.querySelector('#df-beb650fd-ff3b-43d7-a757-363100893f25 button');\n",
              "      quickchartButtonEl.style.display =\n",
              "        google.colab.kernel.accessAllowed ? 'block' : 'none';\n",
              "    })();\n",
              "  </script>\n",
              "</div>\n",
              "\n",
              "    </div>\n",
              "  </div>\n"
            ],
            "application/vnd.google.colaboratory.intrinsic+json": {
              "type": "dataframe",
              "variable_name": "df",
              "summary": "{\n  \"name\": \"df\",\n  \"rows\": 506,\n  \"fields\": [\n    {\n      \"column\": \"CRIM\",\n      \"properties\": {\n        \"dtype\": \"number\",\n        \"std\": 8.60154510533249,\n        \"min\": 0.00632,\n        \"max\": 88.9762,\n        \"num_unique_values\": 504,\n        \"samples\": [\n          0.09178,\n          0.05644,\n          0.10574\n        ],\n        \"semantic_type\": \"\",\n        \"description\": \"\"\n      }\n    },\n    {\n      \"column\": \"ZN\",\n      \"properties\": {\n        \"dtype\": \"number\",\n        \"std\": 23.32245299451514,\n        \"min\": 0.0,\n        \"max\": 100.0,\n        \"num_unique_values\": 26,\n        \"samples\": [\n          25.0,\n          30.0,\n          18.0\n        ],\n        \"semantic_type\": \"\",\n        \"description\": \"\"\n      }\n    },\n    {\n      \"column\": \"INDUS\",\n      \"properties\": {\n        \"dtype\": \"number\",\n        \"std\": 6.860352940897585,\n        \"min\": 0.46,\n        \"max\": 27.74,\n        \"num_unique_values\": 76,\n        \"samples\": [\n          8.14,\n          1.47,\n          1.22\n        ],\n        \"semantic_type\": \"\",\n        \"description\": \"\"\n      }\n    },\n    {\n      \"column\": \"CHAS\",\n      \"properties\": {\n        \"dtype\": \"number\",\n        \"std\": 0.25399404134041037,\n        \"min\": 0.0,\n        \"max\": 1.0,\n        \"num_unique_values\": 2,\n        \"samples\": [\n          1.0,\n          0.0\n        ],\n        \"semantic_type\": \"\",\n        \"description\": \"\"\n      }\n    },\n    {\n      \"column\": \"NOX\",\n      \"properties\": {\n        \"dtype\": \"number\",\n        \"std\": 0.11587767566755595,\n        \"min\": 0.385,\n        \"max\": 0.871,\n        \"num_unique_values\": 81,\n        \"samples\": [\n          0.401,\n          0.538\n        ],\n        \"semantic_type\": \"\",\n        \"description\": \"\"\n      }\n    },\n    {\n      \"column\": \"RM\",\n      \"properties\": {\n        \"dtype\": \"number\",\n        \"std\": 0.7026171434153233,\n        \"min\": 3.561,\n        \"max\": 8.78,\n        \"num_unique_values\": 446,\n        \"samples\": [\n          6.849,\n          4.88\n        ],\n        \"semantic_type\": \"\",\n        \"description\": \"\"\n      }\n    },\n    {\n      \"column\": \"AGE\",\n      \"properties\": {\n        \"dtype\": \"number\",\n        \"std\": 28.148861406903617,\n        \"min\": 2.9,\n        \"max\": 100.0,\n        \"num_unique_values\": 356,\n        \"samples\": [\n          51.8,\n          33.8\n        ],\n        \"semantic_type\": \"\",\n        \"description\": \"\"\n      }\n    },\n    {\n      \"column\": \"DIS\",\n      \"properties\": {\n        \"dtype\": \"number\",\n        \"std\": 2.105710126627611,\n        \"min\": 1.1296,\n        \"max\": 12.1265,\n        \"num_unique_values\": 412,\n        \"samples\": [\n          2.2955,\n          4.2515\n        ],\n        \"semantic_type\": \"\",\n        \"description\": \"\"\n      }\n    },\n    {\n      \"column\": \"RAD\",\n      \"properties\": {\n        \"dtype\": \"number\",\n        \"std\": 8.707259384239366,\n        \"min\": 1.0,\n        \"max\": 24.0,\n        \"num_unique_values\": 9,\n        \"samples\": [\n          7.0,\n          2.0\n        ],\n        \"semantic_type\": \"\",\n        \"description\": \"\"\n      }\n    },\n    {\n      \"column\": \"TAX\",\n      \"properties\": {\n        \"dtype\": \"number\",\n        \"std\": 168.53711605495903,\n        \"min\": 187.0,\n        \"max\": 711.0,\n        \"num_unique_values\": 66,\n        \"samples\": [\n          370.0,\n          666.0\n        ],\n        \"semantic_type\": \"\",\n        \"description\": \"\"\n      }\n    },\n    {\n      \"column\": \"PTRATIO\",\n      \"properties\": {\n        \"dtype\": \"number\",\n        \"std\": 2.1649455237144406,\n        \"min\": 12.6,\n        \"max\": 22.0,\n        \"num_unique_values\": 46,\n        \"samples\": [\n          19.6,\n          15.6\n        ],\n        \"semantic_type\": \"\",\n        \"description\": \"\"\n      }\n    },\n    {\n      \"column\": \"B\",\n      \"properties\": {\n        \"dtype\": \"number\",\n        \"std\": 91.29486438415783,\n        \"min\": 0.32,\n        \"max\": 396.9,\n        \"num_unique_values\": 357,\n        \"samples\": [\n          396.24,\n          395.11\n        ],\n        \"semantic_type\": \"\",\n        \"description\": \"\"\n      }\n    },\n    {\n      \"column\": \"LSTAT\",\n      \"properties\": {\n        \"dtype\": \"number\",\n        \"std\": 7.141061511348571,\n        \"min\": 1.73,\n        \"max\": 37.97,\n        \"num_unique_values\": 455,\n        \"samples\": [\n          6.15,\n          4.32\n        ],\n        \"semantic_type\": \"\",\n        \"description\": \"\"\n      }\n    }\n  ]\n}"
            }
          },
          "metadata": {},
          "execution_count": 48
        }
      ]
    },
    {
      "cell_type": "code",
      "source": [
        "stan_code = \"\"\"\n",
        "data {\n",
        "  int N;\n",
        "  int M;\n",
        "  vector[N] y;\n",
        "  matrix[N, M] x;\n",
        "  real beta;\n",
        "}\n",
        "\n",
        "parameters {\n",
        "  vector[M] b;\n",
        "  real <lower=0> sigma;\n",
        "}\n",
        "\n",
        "model {\n",
        "  for (n in 1:N)\n",
        "    target += beta * normal_lpdf(y[n] | x[n] * b, sigma);\n",
        "}\n",
        "\n",
        "generated quantities {\n",
        "  vector[N] log_lik;\n",
        "  for (n in 1:N)\n",
        "    log_lik[n] = normal_lpdf(y[n] | x[n]*b, sigma);\n",
        "}\n",
        "\"\"\""
      ],
      "metadata": {
        "id": "xBSy23PIddOc"
      },
      "execution_count": null,
      "outputs": []
    },
    {
      "cell_type": "code",
      "source": [
        "def bic(x, y):\n",
        "    beta2 = solve(x.T @ x, x.T @ y)\n",
        "    sigma2 = np.sum((y - x @ beta2) ** 2) / n\n",
        "    return 0.5 * n * np.log(2 * np.pi * np.e * sigma2) + 0.5 * (p + 1) * np.log(n)\n",
        "\n",
        "def wbic(log_likelihood):\n",
        "    return -np.mean(np.sum(log_likelihood, axis=1))"
      ],
      "metadata": {
        "id": "xyelfh2OjeZR"
      },
      "execution_count": null,
      "outputs": []
    },
    {
      "cell_type": "code",
      "source": [
        "n = len(df)\n",
        "m = 20\n",
        "p = len(df.columns)  # 13\n",
        "ones = np.ones(n).reshape(-1, 1)  # 切片用の1のベクトル\n",
        "x = np.concatenate((ones, df.to_numpy()), axis=1)  # 説明変数\n",
        "y = np.array(boston.target)  # 目的変数\n",
        "data_list = {'N': n, 'M': p+1, 'y': y, 'x': x, 'beta': 1 / np.log(n)}\n",
        "BIC = []\n",
        "WBIC = []\n",
        "\n",
        "for j in range(m):\n",
        "    BIC.append(bic(x, y))\n",
        "    stan_model = stan.build(stan_code, data=data_list, random_seed=1)\n",
        "    fit = stan_model.sample(num_samples=3000)\n",
        "    ms = fit.to_frame()\n",
        "    log_lik = np.column_stack([ms[f'log_lik.{i+1}'] for i in range(n)])\n",
        "    WBIC.append(wbic(log_lik))"
      ],
      "metadata": {
        "colab": {
          "base_uri": "https://localhost:8080/"
        },
        "id": "La4rRzyteNmA",
        "outputId": "30c1e8b6-1db2-4f2a-a488-803bc74fec13"
      },
      "execution_count": null,
      "outputs": [
        {
          "output_type": "stream",
          "name": "stdout",
          "text": [
            "Building...\n"
          ]
        },
        {
          "output_type": "stream",
          "name": "stderr",
          "text": [
            "\n",
            "Building: found in cache, done.Messages from stanc:\n",
            "Warning: The parameter sigma has no priors. This means either no prior is\n",
            "    provided, or the prior(s) depend on data variables. In the later case,\n",
            "    this may be a false positive.\n",
            "Warning: The parameter b has no priors. This means either no prior is\n",
            "    provided, or the prior(s) depend on data variables. In the later case,\n",
            "    this may be a false positive.\n",
            "Sampling:   0%\n",
            "Sampling:   0% (1/16000)\n",
            "Sampling:   0% (2/16000)\n",
            "Sampling:   1% (101/16000)\n",
            "Sampling:   1% (200/16000)\n",
            "Sampling:   2% (300/16000)\n",
            "Sampling:   2% (400/16000)\n",
            "Sampling:   3% (500/16000)\n",
            "Sampling:   4% (600/16000)\n",
            "Sampling:   4% (700/16000)\n",
            "Sampling:   5% (800/16000)\n",
            "Sampling:   6% (900/16000)\n",
            "Sampling:   6% (1000/16000)\n",
            "Sampling:   7% (1100/16000)\n",
            "Sampling:   8% (1200/16000)\n",
            "Sampling:   8% (1300/16000)\n",
            "Sampling:   9% (1400/16000)\n",
            "Sampling:   9% (1500/16000)\n",
            "Sampling:  10% (1600/16000)\n",
            "Sampling:  11% (1700/16000)\n",
            "Sampling:  11% (1800/16000)\n",
            "Sampling:  12% (1901/16000)\n",
            "Sampling:  13% (2002/16000)\n",
            "Sampling:  13% (2101/16000)\n",
            "Sampling:  14% (2200/16000)\n",
            "Sampling:  14% (2300/16000)\n",
            "Sampling:  15% (2400/16000)\n",
            "Sampling:  16% (2500/16000)\n",
            "Sampling:  16% (2600/16000)\n",
            "Sampling:  17% (2700/16000)\n",
            "Sampling:  18% (2800/16000)\n",
            "Sampling:  18% (2900/16000)\n",
            "Sampling:  19% (3000/16000)\n",
            "Sampling:  19% (3100/16000)\n",
            "Sampling:  20% (3200/16000)\n",
            "Sampling:  21% (3300/16000)\n",
            "Sampling:  21% (3400/16000)\n",
            "Sampling:  22% (3500/16000)\n",
            "Sampling:  22% (3600/16000)\n",
            "Sampling:  23% (3700/16000)\n",
            "Sampling:  24% (3800/16000)\n",
            "Sampling:  24% (3900/16000)\n",
            "Sampling:  25% (4000/16000)\n",
            "Sampling:  26% (4100/16000)\n",
            "Sampling:  26% (4200/16000)\n",
            "Sampling:  27% (4300/16000)\n",
            "Sampling:  28% (4400/16000)\n",
            "Sampling:  28% (4500/16000)\n",
            "Sampling:  29% (4600/16000)\n",
            "Sampling:  29% (4700/16000)\n",
            "Sampling:  30% (4800/16000)\n",
            "Sampling:  31% (4900/16000)\n",
            "Sampling:  31% (5000/16000)\n",
            "Sampling:  32% (5100/16000)\n",
            "Sampling:  32% (5200/16000)\n",
            "Sampling:  33% (5300/16000)\n",
            "Sampling:  34% (5400/16000)\n",
            "Sampling:  34% (5500/16000)\n",
            "Sampling:  35% (5600/16000)\n",
            "Sampling:  36% (5700/16000)\n",
            "Sampling:  36% (5800/16000)\n",
            "Sampling:  37% (5900/16000)\n",
            "Sampling:  38% (6000/16000)\n",
            "Sampling:  38% (6100/16000)\n",
            "Sampling:  39% (6200/16000)\n",
            "Sampling:  39% (6300/16000)\n",
            "Sampling:  40% (6400/16000)\n",
            "Sampling:  41% (6500/16000)\n",
            "Sampling:  41% (6600/16000)\n",
            "Sampling:  42% (6700/16000)\n",
            "Sampling:  42% (6800/16000)\n",
            "Sampling:  43% (6900/16000)\n",
            "Sampling:  44% (7000/16000)\n",
            "Sampling:  44% (7100/16000)\n",
            "Sampling:  45% (7200/16000)\n",
            "Sampling:  46% (7300/16000)\n",
            "Sampling:  46% (7400/16000)\n",
            "Sampling:  47% (7500/16000)\n",
            "Sampling:  48% (7600/16000)\n",
            "Sampling:  48% (7700/16000)\n",
            "Sampling:  48% (7701/16000)\n",
            "Sampling:  49% (7801/16000)\n",
            "Sampling:  49% (7901/16000)\n",
            "Sampling:  50% (8000/16000)\n",
            "Sampling:  51% (8100/16000)\n",
            "Sampling:  51% (8101/16000)\n",
            "Sampling:  51% (8201/16000)\n",
            "Sampling:  52% (8300/16000)\n",
            "Sampling:  52% (8400/16000)\n",
            "Sampling:  53% (8500/16000)\n",
            "Sampling:  54% (8600/16000)\n",
            "Sampling:  54% (8700/16000)\n",
            "Sampling:  55% (8800/16000)\n",
            "Sampling:  56% (8900/16000)\n",
            "Sampling:  56% (9000/16000)\n",
            "Sampling:  57% (9100/16000)\n",
            "Sampling:  58% (9200/16000)\n",
            "Sampling:  58% (9300/16000)\n",
            "Sampling:  59% (9400/16000)\n",
            "Sampling:  59% (9501/16000)\n",
            "Sampling:  60% (9601/16000)\n",
            "Sampling:  61% (9701/16000)\n",
            "Sampling:  61% (9800/16000)\n",
            "Sampling:  62% (9900/16000)\n",
            "Sampling:  62% (10000/16000)\n",
            "Sampling:  63% (10100/16000)\n",
            "Sampling:  64% (10200/16000)\n",
            "Sampling:  64% (10301/16000)\n",
            "Sampling:  65% (10401/16000)\n",
            "Sampling:  66% (10500/16000)\n",
            "Sampling:  66% (10600/16000)\n",
            "Sampling:  67% (10700/16000)\n",
            "Sampling:  68% (10800/16000)\n",
            "Sampling:  68% (10900/16000)\n",
            "Sampling:  69% (11000/16000)\n",
            "Sampling:  69% (11100/16000)\n",
            "Sampling:  70% (11200/16000)\n",
            "Sampling:  71% (11300/16000)\n",
            "Sampling:  71% (11400/16000)\n",
            "Sampling:  72% (11500/16000)\n",
            "Sampling:  72% (11600/16000)\n",
            "Sampling:  73% (11700/16000)\n",
            "Sampling:  74% (11800/16000)\n",
            "Sampling:  74% (11900/16000)\n",
            "Sampling:  75% (12000/16000)\n",
            "Sampling:  76% (12100/16000)\n",
            "Sampling:  76% (12200/16000)\n",
            "Sampling:  77% (12300/16000)\n",
            "Sampling:  78% (12400/16000)\n",
            "Sampling:  78% (12500/16000)\n",
            "Sampling:  79% (12600/16000)\n",
            "Sampling:  79% (12700/16000)\n",
            "Sampling:  80% (12800/16000)\n",
            "Sampling:  81% (12900/16000)\n",
            "Sampling:  81% (13000/16000)\n",
            "Sampling:  82% (13100/16000)\n",
            "Sampling:  82% (13200/16000)\n",
            "Sampling:  83% (13300/16000)\n",
            "Sampling:  84% (13400/16000)\n",
            "Sampling:  84% (13500/16000)\n",
            "Sampling:  85% (13600/16000)\n",
            "Sampling:  86% (13700/16000)\n",
            "Sampling:  86% (13800/16000)\n",
            "Sampling:  87% (13900/16000)\n",
            "Sampling:  88% (14000/16000)\n",
            "Sampling:  88% (14100/16000)\n",
            "Sampling:  89% (14200/16000)\n",
            "Sampling:  89% (14300/16000)\n",
            "Sampling:  90% (14400/16000)\n",
            "Sampling:  91% (14500/16000)\n",
            "Sampling:  91% (14600/16000)\n",
            "Sampling:  92% (14700/16000)\n",
            "Sampling:  92% (14800/16000)\n",
            "Sampling:  93% (14900/16000)\n",
            "Sampling:  94% (15000/16000)\n",
            "Sampling:  94% (15100/16000)\n",
            "Sampling:  95% (15200/16000)\n",
            "Sampling:  96% (15300/16000)\n",
            "Sampling:  96% (15400/16000)\n",
            "Sampling:  97% (15500/16000)\n",
            "Sampling:  98% (15600/16000)\n",
            "Sampling:  98% (15700/16000)\n",
            "Sampling:  99% (15800/16000)\n",
            "Sampling:  99% (15900/16000)\n",
            "Sampling: 100% (16000/16000)\n",
            "Sampling: 100% (16000/16000), done.\n",
            "Messages received during sampling:\n",
            "  Gradient evaluation took 0.00055 seconds\n",
            "  1000 transitions using 10 leapfrog steps per transition would take 5.5 seconds.\n",
            "  Adjust your expectations accordingly!\n",
            "  Gradient evaluation took 0.00057 seconds\n",
            "  1000 transitions using 10 leapfrog steps per transition would take 5.7 seconds.\n",
            "  Adjust your expectations accordingly!\n",
            "  Gradient evaluation took 0.000163 seconds\n",
            "  1000 transitions using 10 leapfrog steps per transition would take 1.63 seconds.\n",
            "  Adjust your expectations accordingly!\n",
            "  Gradient evaluation took 0.000184 seconds\n",
            "  1000 transitions using 10 leapfrog steps per transition would take 1.84 seconds.\n",
            "  Adjust your expectations accordingly!\n"
          ]
        },
        {
          "output_type": "stream",
          "name": "stdout",
          "text": [
            "Building...\n"
          ]
        },
        {
          "output_type": "stream",
          "name": "stderr",
          "text": [
            "\n",
            "Building: found in cache, done.Messages from stanc:\n",
            "Warning: The parameter sigma has no priors. This means either no prior is\n",
            "    provided, or the prior(s) depend on data variables. In the later case,\n",
            "    this may be a false positive.\n",
            "Warning: The parameter b has no priors. This means either no prior is\n",
            "    provided, or the prior(s) depend on data variables. In the later case,\n",
            "    this may be a false positive.\n",
            "Sampling:   0%\n",
            "Sampling: 100%, done.\n",
            "Messages received during sampling:\n",
            "  Gradient evaluation took 0.00055 seconds\n",
            "  1000 transitions using 10 leapfrog steps per transition would take 5.5 seconds.\n",
            "  Adjust your expectations accordingly!\n",
            "  Gradient evaluation took 0.00057 seconds\n",
            "  1000 transitions using 10 leapfrog steps per transition would take 5.7 seconds.\n",
            "  Adjust your expectations accordingly!\n",
            "  Gradient evaluation took 0.000163 seconds\n",
            "  1000 transitions using 10 leapfrog steps per transition would take 1.63 seconds.\n",
            "  Adjust your expectations accordingly!\n",
            "  Gradient evaluation took 0.000184 seconds\n",
            "  1000 transitions using 10 leapfrog steps per transition would take 1.84 seconds.\n",
            "  Adjust your expectations accordingly!\n"
          ]
        },
        {
          "output_type": "stream",
          "name": "stdout",
          "text": [
            "Building...\n"
          ]
        },
        {
          "output_type": "stream",
          "name": "stderr",
          "text": [
            "\n",
            "Building: found in cache, done.Messages from stanc:\n",
            "Warning: The parameter sigma has no priors. This means either no prior is\n",
            "    provided, or the prior(s) depend on data variables. In the later case,\n",
            "    this may be a false positive.\n",
            "Warning: The parameter b has no priors. This means either no prior is\n",
            "    provided, or the prior(s) depend on data variables. In the later case,\n",
            "    this may be a false positive.\n",
            "Sampling:   0%\n",
            "Sampling: 100%, done.\n",
            "Messages received during sampling:\n",
            "  Gradient evaluation took 0.00055 seconds\n",
            "  1000 transitions using 10 leapfrog steps per transition would take 5.5 seconds.\n",
            "  Adjust your expectations accordingly!\n",
            "  Gradient evaluation took 0.00057 seconds\n",
            "  1000 transitions using 10 leapfrog steps per transition would take 5.7 seconds.\n",
            "  Adjust your expectations accordingly!\n",
            "  Gradient evaluation took 0.000163 seconds\n",
            "  1000 transitions using 10 leapfrog steps per transition would take 1.63 seconds.\n",
            "  Adjust your expectations accordingly!\n",
            "  Gradient evaluation took 0.000184 seconds\n",
            "  1000 transitions using 10 leapfrog steps per transition would take 1.84 seconds.\n",
            "  Adjust your expectations accordingly!\n"
          ]
        },
        {
          "output_type": "stream",
          "name": "stdout",
          "text": [
            "Building...\n"
          ]
        },
        {
          "output_type": "stream",
          "name": "stderr",
          "text": [
            "\n",
            "Building: found in cache, done.Messages from stanc:\n",
            "Warning: The parameter sigma has no priors. This means either no prior is\n",
            "    provided, or the prior(s) depend on data variables. In the later case,\n",
            "    this may be a false positive.\n",
            "Warning: The parameter b has no priors. This means either no prior is\n",
            "    provided, or the prior(s) depend on data variables. In the later case,\n",
            "    this may be a false positive.\n",
            "Sampling:   0%\n",
            "Sampling: 100%, done.\n",
            "Messages received during sampling:\n",
            "  Gradient evaluation took 0.00055 seconds\n",
            "  1000 transitions using 10 leapfrog steps per transition would take 5.5 seconds.\n",
            "  Adjust your expectations accordingly!\n",
            "  Gradient evaluation took 0.00057 seconds\n",
            "  1000 transitions using 10 leapfrog steps per transition would take 5.7 seconds.\n",
            "  Adjust your expectations accordingly!\n",
            "  Gradient evaluation took 0.000163 seconds\n",
            "  1000 transitions using 10 leapfrog steps per transition would take 1.63 seconds.\n",
            "  Adjust your expectations accordingly!\n",
            "  Gradient evaluation took 0.000184 seconds\n",
            "  1000 transitions using 10 leapfrog steps per transition would take 1.84 seconds.\n",
            "  Adjust your expectations accordingly!\n"
          ]
        },
        {
          "output_type": "stream",
          "name": "stdout",
          "text": [
            "Building...\n"
          ]
        },
        {
          "output_type": "stream",
          "name": "stderr",
          "text": [
            "\n",
            "Building: found in cache, done.Messages from stanc:\n",
            "Warning: The parameter sigma has no priors. This means either no prior is\n",
            "    provided, or the prior(s) depend on data variables. In the later case,\n",
            "    this may be a false positive.\n",
            "Warning: The parameter b has no priors. This means either no prior is\n",
            "    provided, or the prior(s) depend on data variables. In the later case,\n",
            "    this may be a false positive.\n",
            "Sampling:   0%\n",
            "Sampling: 100%, done.\n",
            "Messages received during sampling:\n",
            "  Gradient evaluation took 0.00055 seconds\n",
            "  1000 transitions using 10 leapfrog steps per transition would take 5.5 seconds.\n",
            "  Adjust your expectations accordingly!\n",
            "  Gradient evaluation took 0.00057 seconds\n",
            "  1000 transitions using 10 leapfrog steps per transition would take 5.7 seconds.\n",
            "  Adjust your expectations accordingly!\n",
            "  Gradient evaluation took 0.000163 seconds\n",
            "  1000 transitions using 10 leapfrog steps per transition would take 1.63 seconds.\n",
            "  Adjust your expectations accordingly!\n",
            "  Gradient evaluation took 0.000184 seconds\n",
            "  1000 transitions using 10 leapfrog steps per transition would take 1.84 seconds.\n",
            "  Adjust your expectations accordingly!\n"
          ]
        },
        {
          "output_type": "stream",
          "name": "stdout",
          "text": [
            "Building...\n"
          ]
        },
        {
          "output_type": "stream",
          "name": "stderr",
          "text": [
            "\n",
            "Building: found in cache, done.Messages from stanc:\n",
            "Warning: The parameter sigma has no priors. This means either no prior is\n",
            "    provided, or the prior(s) depend on data variables. In the later case,\n",
            "    this may be a false positive.\n",
            "Warning: The parameter b has no priors. This means either no prior is\n",
            "    provided, or the prior(s) depend on data variables. In the later case,\n",
            "    this may be a false positive.\n",
            "Sampling:   0%\n",
            "Sampling: 100%, done.\n",
            "Messages received during sampling:\n",
            "  Gradient evaluation took 0.00055 seconds\n",
            "  1000 transitions using 10 leapfrog steps per transition would take 5.5 seconds.\n",
            "  Adjust your expectations accordingly!\n",
            "  Gradient evaluation took 0.00057 seconds\n",
            "  1000 transitions using 10 leapfrog steps per transition would take 5.7 seconds.\n",
            "  Adjust your expectations accordingly!\n",
            "  Gradient evaluation took 0.000163 seconds\n",
            "  1000 transitions using 10 leapfrog steps per transition would take 1.63 seconds.\n",
            "  Adjust your expectations accordingly!\n",
            "  Gradient evaluation took 0.000184 seconds\n",
            "  1000 transitions using 10 leapfrog steps per transition would take 1.84 seconds.\n",
            "  Adjust your expectations accordingly!\n"
          ]
        },
        {
          "output_type": "stream",
          "name": "stdout",
          "text": [
            "Building...\n"
          ]
        },
        {
          "output_type": "stream",
          "name": "stderr",
          "text": [
            "\n",
            "Building: found in cache, done.Messages from stanc:\n",
            "Warning: The parameter sigma has no priors. This means either no prior is\n",
            "    provided, or the prior(s) depend on data variables. In the later case,\n",
            "    this may be a false positive.\n",
            "Warning: The parameter b has no priors. This means either no prior is\n",
            "    provided, or the prior(s) depend on data variables. In the later case,\n",
            "    this may be a false positive.\n",
            "Sampling:   0%\n",
            "Sampling: 100%, done.\n",
            "Messages received during sampling:\n",
            "  Gradient evaluation took 0.00055 seconds\n",
            "  1000 transitions using 10 leapfrog steps per transition would take 5.5 seconds.\n",
            "  Adjust your expectations accordingly!\n",
            "  Gradient evaluation took 0.00057 seconds\n",
            "  1000 transitions using 10 leapfrog steps per transition would take 5.7 seconds.\n",
            "  Adjust your expectations accordingly!\n",
            "  Gradient evaluation took 0.000163 seconds\n",
            "  1000 transitions using 10 leapfrog steps per transition would take 1.63 seconds.\n",
            "  Adjust your expectations accordingly!\n",
            "  Gradient evaluation took 0.000184 seconds\n",
            "  1000 transitions using 10 leapfrog steps per transition would take 1.84 seconds.\n",
            "  Adjust your expectations accordingly!\n"
          ]
        },
        {
          "output_type": "stream",
          "name": "stdout",
          "text": [
            "Building...\n"
          ]
        },
        {
          "output_type": "stream",
          "name": "stderr",
          "text": [
            "\n",
            "Building: found in cache, done.Messages from stanc:\n",
            "Warning: The parameter sigma has no priors. This means either no prior is\n",
            "    provided, or the prior(s) depend on data variables. In the later case,\n",
            "    this may be a false positive.\n",
            "Warning: The parameter b has no priors. This means either no prior is\n",
            "    provided, or the prior(s) depend on data variables. In the later case,\n",
            "    this may be a false positive.\n",
            "Sampling:   0%\n",
            "Sampling: 100%, done.\n",
            "Messages received during sampling:\n",
            "  Gradient evaluation took 0.00055 seconds\n",
            "  1000 transitions using 10 leapfrog steps per transition would take 5.5 seconds.\n",
            "  Adjust your expectations accordingly!\n",
            "  Gradient evaluation took 0.00057 seconds\n",
            "  1000 transitions using 10 leapfrog steps per transition would take 5.7 seconds.\n",
            "  Adjust your expectations accordingly!\n",
            "  Gradient evaluation took 0.000163 seconds\n",
            "  1000 transitions using 10 leapfrog steps per transition would take 1.63 seconds.\n",
            "  Adjust your expectations accordingly!\n",
            "  Gradient evaluation took 0.000184 seconds\n",
            "  1000 transitions using 10 leapfrog steps per transition would take 1.84 seconds.\n",
            "  Adjust your expectations accordingly!\n"
          ]
        },
        {
          "output_type": "stream",
          "name": "stdout",
          "text": [
            "Building...\n"
          ]
        },
        {
          "output_type": "stream",
          "name": "stderr",
          "text": [
            "\n",
            "Building: found in cache, done.Messages from stanc:\n",
            "Warning: The parameter sigma has no priors. This means either no prior is\n",
            "    provided, or the prior(s) depend on data variables. In the later case,\n",
            "    this may be a false positive.\n",
            "Warning: The parameter b has no priors. This means either no prior is\n",
            "    provided, or the prior(s) depend on data variables. In the later case,\n",
            "    this may be a false positive.\n",
            "Sampling:   0%\n",
            "Sampling: 100%, done.\n",
            "Messages received during sampling:\n",
            "  Gradient evaluation took 0.00055 seconds\n",
            "  1000 transitions using 10 leapfrog steps per transition would take 5.5 seconds.\n",
            "  Adjust your expectations accordingly!\n",
            "  Gradient evaluation took 0.00057 seconds\n",
            "  1000 transitions using 10 leapfrog steps per transition would take 5.7 seconds.\n",
            "  Adjust your expectations accordingly!\n",
            "  Gradient evaluation took 0.000163 seconds\n",
            "  1000 transitions using 10 leapfrog steps per transition would take 1.63 seconds.\n",
            "  Adjust your expectations accordingly!\n",
            "  Gradient evaluation took 0.000184 seconds\n",
            "  1000 transitions using 10 leapfrog steps per transition would take 1.84 seconds.\n",
            "  Adjust your expectations accordingly!\n"
          ]
        },
        {
          "output_type": "stream",
          "name": "stdout",
          "text": [
            "Building...\n"
          ]
        },
        {
          "output_type": "stream",
          "name": "stderr",
          "text": [
            "\n",
            "Building: found in cache, done.Messages from stanc:\n",
            "Warning: The parameter sigma has no priors. This means either no prior is\n",
            "    provided, or the prior(s) depend on data variables. In the later case,\n",
            "    this may be a false positive.\n",
            "Warning: The parameter b has no priors. This means either no prior is\n",
            "    provided, or the prior(s) depend on data variables. In the later case,\n",
            "    this may be a false positive.\n",
            "Sampling:   0%\n",
            "Sampling: 100%, done.\n",
            "Messages received during sampling:\n",
            "  Gradient evaluation took 0.00055 seconds\n",
            "  1000 transitions using 10 leapfrog steps per transition would take 5.5 seconds.\n",
            "  Adjust your expectations accordingly!\n",
            "  Gradient evaluation took 0.00057 seconds\n",
            "  1000 transitions using 10 leapfrog steps per transition would take 5.7 seconds.\n",
            "  Adjust your expectations accordingly!\n",
            "  Gradient evaluation took 0.000163 seconds\n",
            "  1000 transitions using 10 leapfrog steps per transition would take 1.63 seconds.\n",
            "  Adjust your expectations accordingly!\n",
            "  Gradient evaluation took 0.000184 seconds\n",
            "  1000 transitions using 10 leapfrog steps per transition would take 1.84 seconds.\n",
            "  Adjust your expectations accordingly!\n"
          ]
        },
        {
          "output_type": "stream",
          "name": "stdout",
          "text": [
            "Building...\n"
          ]
        },
        {
          "output_type": "stream",
          "name": "stderr",
          "text": [
            "\n",
            "Building: found in cache, done.Messages from stanc:\n",
            "Warning: The parameter sigma has no priors. This means either no prior is\n",
            "    provided, or the prior(s) depend on data variables. In the later case,\n",
            "    this may be a false positive.\n",
            "Warning: The parameter b has no priors. This means either no prior is\n",
            "    provided, or the prior(s) depend on data variables. In the later case,\n",
            "    this may be a false positive.\n",
            "Sampling:   0%\n",
            "Sampling: 100%, done.\n",
            "Messages received during sampling:\n",
            "  Gradient evaluation took 0.00055 seconds\n",
            "  1000 transitions using 10 leapfrog steps per transition would take 5.5 seconds.\n",
            "  Adjust your expectations accordingly!\n",
            "  Gradient evaluation took 0.00057 seconds\n",
            "  1000 transitions using 10 leapfrog steps per transition would take 5.7 seconds.\n",
            "  Adjust your expectations accordingly!\n",
            "  Gradient evaluation took 0.000163 seconds\n",
            "  1000 transitions using 10 leapfrog steps per transition would take 1.63 seconds.\n",
            "  Adjust your expectations accordingly!\n",
            "  Gradient evaluation took 0.000184 seconds\n",
            "  1000 transitions using 10 leapfrog steps per transition would take 1.84 seconds.\n",
            "  Adjust your expectations accordingly!\n"
          ]
        },
        {
          "output_type": "stream",
          "name": "stdout",
          "text": [
            "Building...\n"
          ]
        },
        {
          "output_type": "stream",
          "name": "stderr",
          "text": [
            "\n",
            "Building: found in cache, done.Messages from stanc:\n",
            "Warning: The parameter sigma has no priors. This means either no prior is\n",
            "    provided, or the prior(s) depend on data variables. In the later case,\n",
            "    this may be a false positive.\n",
            "Warning: The parameter b has no priors. This means either no prior is\n",
            "    provided, or the prior(s) depend on data variables. In the later case,\n",
            "    this may be a false positive.\n",
            "Sampling:   0%\n",
            "Sampling: 100%, done.\n",
            "Messages received during sampling:\n",
            "  Gradient evaluation took 0.00055 seconds\n",
            "  1000 transitions using 10 leapfrog steps per transition would take 5.5 seconds.\n",
            "  Adjust your expectations accordingly!\n",
            "  Gradient evaluation took 0.00057 seconds\n",
            "  1000 transitions using 10 leapfrog steps per transition would take 5.7 seconds.\n",
            "  Adjust your expectations accordingly!\n",
            "  Gradient evaluation took 0.000163 seconds\n",
            "  1000 transitions using 10 leapfrog steps per transition would take 1.63 seconds.\n",
            "  Adjust your expectations accordingly!\n",
            "  Gradient evaluation took 0.000184 seconds\n",
            "  1000 transitions using 10 leapfrog steps per transition would take 1.84 seconds.\n",
            "  Adjust your expectations accordingly!\n"
          ]
        },
        {
          "output_type": "stream",
          "name": "stdout",
          "text": [
            "Building...\n"
          ]
        },
        {
          "output_type": "stream",
          "name": "stderr",
          "text": [
            "\n",
            "Building: found in cache, done.Messages from stanc:\n",
            "Warning: The parameter sigma has no priors. This means either no prior is\n",
            "    provided, or the prior(s) depend on data variables. In the later case,\n",
            "    this may be a false positive.\n",
            "Warning: The parameter b has no priors. This means either no prior is\n",
            "    provided, or the prior(s) depend on data variables. In the later case,\n",
            "    this may be a false positive.\n",
            "Sampling:   0%\n",
            "Sampling: 100%, done.\n",
            "Messages received during sampling:\n",
            "  Gradient evaluation took 0.00055 seconds\n",
            "  1000 transitions using 10 leapfrog steps per transition would take 5.5 seconds.\n",
            "  Adjust your expectations accordingly!\n",
            "  Gradient evaluation took 0.00057 seconds\n",
            "  1000 transitions using 10 leapfrog steps per transition would take 5.7 seconds.\n",
            "  Adjust your expectations accordingly!\n",
            "  Gradient evaluation took 0.000163 seconds\n",
            "  1000 transitions using 10 leapfrog steps per transition would take 1.63 seconds.\n",
            "  Adjust your expectations accordingly!\n",
            "  Gradient evaluation took 0.000184 seconds\n",
            "  1000 transitions using 10 leapfrog steps per transition would take 1.84 seconds.\n",
            "  Adjust your expectations accordingly!\n"
          ]
        },
        {
          "output_type": "stream",
          "name": "stdout",
          "text": [
            "Building...\n"
          ]
        },
        {
          "output_type": "stream",
          "name": "stderr",
          "text": [
            "\n",
            "Building: found in cache, done.Messages from stanc:\n",
            "Warning: The parameter sigma has no priors. This means either no prior is\n",
            "    provided, or the prior(s) depend on data variables. In the later case,\n",
            "    this may be a false positive.\n",
            "Warning: The parameter b has no priors. This means either no prior is\n",
            "    provided, or the prior(s) depend on data variables. In the later case,\n",
            "    this may be a false positive.\n",
            "Sampling:   0%\n",
            "Sampling: 100%, done.\n",
            "Messages received during sampling:\n",
            "  Gradient evaluation took 0.00055 seconds\n",
            "  1000 transitions using 10 leapfrog steps per transition would take 5.5 seconds.\n",
            "  Adjust your expectations accordingly!\n",
            "  Gradient evaluation took 0.00057 seconds\n",
            "  1000 transitions using 10 leapfrog steps per transition would take 5.7 seconds.\n",
            "  Adjust your expectations accordingly!\n",
            "  Gradient evaluation took 0.000163 seconds\n",
            "  1000 transitions using 10 leapfrog steps per transition would take 1.63 seconds.\n",
            "  Adjust your expectations accordingly!\n",
            "  Gradient evaluation took 0.000184 seconds\n",
            "  1000 transitions using 10 leapfrog steps per transition would take 1.84 seconds.\n",
            "  Adjust your expectations accordingly!\n"
          ]
        },
        {
          "output_type": "stream",
          "name": "stdout",
          "text": [
            "Building...\n"
          ]
        },
        {
          "output_type": "stream",
          "name": "stderr",
          "text": [
            "\n",
            "Building: found in cache, done.Messages from stanc:\n",
            "Warning: The parameter sigma has no priors. This means either no prior is\n",
            "    provided, or the prior(s) depend on data variables. In the later case,\n",
            "    this may be a false positive.\n",
            "Warning: The parameter b has no priors. This means either no prior is\n",
            "    provided, or the prior(s) depend on data variables. In the later case,\n",
            "    this may be a false positive.\n",
            "Sampling:   0%\n",
            "Sampling: 100%, done.\n",
            "Messages received during sampling:\n",
            "  Gradient evaluation took 0.00055 seconds\n",
            "  1000 transitions using 10 leapfrog steps per transition would take 5.5 seconds.\n",
            "  Adjust your expectations accordingly!\n",
            "  Gradient evaluation took 0.00057 seconds\n",
            "  1000 transitions using 10 leapfrog steps per transition would take 5.7 seconds.\n",
            "  Adjust your expectations accordingly!\n",
            "  Gradient evaluation took 0.000163 seconds\n",
            "  1000 transitions using 10 leapfrog steps per transition would take 1.63 seconds.\n",
            "  Adjust your expectations accordingly!\n",
            "  Gradient evaluation took 0.000184 seconds\n",
            "  1000 transitions using 10 leapfrog steps per transition would take 1.84 seconds.\n",
            "  Adjust your expectations accordingly!\n"
          ]
        },
        {
          "output_type": "stream",
          "name": "stdout",
          "text": [
            "Building...\n"
          ]
        },
        {
          "output_type": "stream",
          "name": "stderr",
          "text": [
            "\n",
            "Building: found in cache, done.Messages from stanc:\n",
            "Warning: The parameter sigma has no priors. This means either no prior is\n",
            "    provided, or the prior(s) depend on data variables. In the later case,\n",
            "    this may be a false positive.\n",
            "Warning: The parameter b has no priors. This means either no prior is\n",
            "    provided, or the prior(s) depend on data variables. In the later case,\n",
            "    this may be a false positive.\n",
            "Sampling:   0%\n",
            "Sampling: 100%, done.\n",
            "Messages received during sampling:\n",
            "  Gradient evaluation took 0.00055 seconds\n",
            "  1000 transitions using 10 leapfrog steps per transition would take 5.5 seconds.\n",
            "  Adjust your expectations accordingly!\n",
            "  Gradient evaluation took 0.00057 seconds\n",
            "  1000 transitions using 10 leapfrog steps per transition would take 5.7 seconds.\n",
            "  Adjust your expectations accordingly!\n",
            "  Gradient evaluation took 0.000163 seconds\n",
            "  1000 transitions using 10 leapfrog steps per transition would take 1.63 seconds.\n",
            "  Adjust your expectations accordingly!\n",
            "  Gradient evaluation took 0.000184 seconds\n",
            "  1000 transitions using 10 leapfrog steps per transition would take 1.84 seconds.\n",
            "  Adjust your expectations accordingly!\n"
          ]
        },
        {
          "output_type": "stream",
          "name": "stdout",
          "text": [
            "Building...\n"
          ]
        },
        {
          "output_type": "stream",
          "name": "stderr",
          "text": [
            "\n",
            "Building: found in cache, done.Messages from stanc:\n",
            "Warning: The parameter sigma has no priors. This means either no prior is\n",
            "    provided, or the prior(s) depend on data variables. In the later case,\n",
            "    this may be a false positive.\n",
            "Warning: The parameter b has no priors. This means either no prior is\n",
            "    provided, or the prior(s) depend on data variables. In the later case,\n",
            "    this may be a false positive.\n",
            "Sampling:   0%\n",
            "Sampling: 100%, done.\n",
            "Messages received during sampling:\n",
            "  Gradient evaluation took 0.00055 seconds\n",
            "  1000 transitions using 10 leapfrog steps per transition would take 5.5 seconds.\n",
            "  Adjust your expectations accordingly!\n",
            "  Gradient evaluation took 0.00057 seconds\n",
            "  1000 transitions using 10 leapfrog steps per transition would take 5.7 seconds.\n",
            "  Adjust your expectations accordingly!\n",
            "  Gradient evaluation took 0.000163 seconds\n",
            "  1000 transitions using 10 leapfrog steps per transition would take 1.63 seconds.\n",
            "  Adjust your expectations accordingly!\n",
            "  Gradient evaluation took 0.000184 seconds\n",
            "  1000 transitions using 10 leapfrog steps per transition would take 1.84 seconds.\n",
            "  Adjust your expectations accordingly!\n"
          ]
        },
        {
          "output_type": "stream",
          "name": "stdout",
          "text": [
            "Building...\n"
          ]
        },
        {
          "output_type": "stream",
          "name": "stderr",
          "text": [
            "\n",
            "Building: found in cache, done.Messages from stanc:\n",
            "Warning: The parameter sigma has no priors. This means either no prior is\n",
            "    provided, or the prior(s) depend on data variables. In the later case,\n",
            "    this may be a false positive.\n",
            "Warning: The parameter b has no priors. This means either no prior is\n",
            "    provided, or the prior(s) depend on data variables. In the later case,\n",
            "    this may be a false positive.\n",
            "Sampling:   0%\n",
            "Sampling: 100%, done.\n",
            "Messages received during sampling:\n",
            "  Gradient evaluation took 0.00055 seconds\n",
            "  1000 transitions using 10 leapfrog steps per transition would take 5.5 seconds.\n",
            "  Adjust your expectations accordingly!\n",
            "  Gradient evaluation took 0.00057 seconds\n",
            "  1000 transitions using 10 leapfrog steps per transition would take 5.7 seconds.\n",
            "  Adjust your expectations accordingly!\n",
            "  Gradient evaluation took 0.000163 seconds\n",
            "  1000 transitions using 10 leapfrog steps per transition would take 1.63 seconds.\n",
            "  Adjust your expectations accordingly!\n",
            "  Gradient evaluation took 0.000184 seconds\n",
            "  1000 transitions using 10 leapfrog steps per transition would take 1.84 seconds.\n",
            "  Adjust your expectations accordingly!\n"
          ]
        },
        {
          "output_type": "stream",
          "name": "stdout",
          "text": [
            "Building...\n"
          ]
        },
        {
          "output_type": "stream",
          "name": "stderr",
          "text": [
            "\n",
            "Building: found in cache, done.Messages from stanc:\n",
            "Warning: The parameter sigma has no priors. This means either no prior is\n",
            "    provided, or the prior(s) depend on data variables. In the later case,\n",
            "    this may be a false positive.\n",
            "Warning: The parameter b has no priors. This means either no prior is\n",
            "    provided, or the prior(s) depend on data variables. In the later case,\n",
            "    this may be a false positive.\n",
            "Sampling:   0%\n",
            "Sampling: 100%, done.\n",
            "Messages received during sampling:\n",
            "  Gradient evaluation took 0.00055 seconds\n",
            "  1000 transitions using 10 leapfrog steps per transition would take 5.5 seconds.\n",
            "  Adjust your expectations accordingly!\n",
            "  Gradient evaluation took 0.00057 seconds\n",
            "  1000 transitions using 10 leapfrog steps per transition would take 5.7 seconds.\n",
            "  Adjust your expectations accordingly!\n",
            "  Gradient evaluation took 0.000163 seconds\n",
            "  1000 transitions using 10 leapfrog steps per transition would take 1.63 seconds.\n",
            "  Adjust your expectations accordingly!\n",
            "  Gradient evaluation took 0.000184 seconds\n",
            "  1000 transitions using 10 leapfrog steps per transition would take 1.84 seconds.\n",
            "  Adjust your expectations accordingly!\n"
          ]
        },
        {
          "output_type": "stream",
          "name": "stdout",
          "text": [
            "Building...\n"
          ]
        },
        {
          "output_type": "stream",
          "name": "stderr",
          "text": [
            "\n",
            "Building: found in cache, done.Messages from stanc:\n",
            "Warning: The parameter sigma has no priors. This means either no prior is\n",
            "    provided, or the prior(s) depend on data variables. In the later case,\n",
            "    this may be a false positive.\n",
            "Warning: The parameter b has no priors. This means either no prior is\n",
            "    provided, or the prior(s) depend on data variables. In the later case,\n",
            "    this may be a false positive.\n",
            "Sampling:   0%\n",
            "Sampling: 100%, done.\n",
            "Messages received during sampling:\n",
            "  Gradient evaluation took 0.00055 seconds\n",
            "  1000 transitions using 10 leapfrog steps per transition would take 5.5 seconds.\n",
            "  Adjust your expectations accordingly!\n",
            "  Gradient evaluation took 0.00057 seconds\n",
            "  1000 transitions using 10 leapfrog steps per transition would take 5.7 seconds.\n",
            "  Adjust your expectations accordingly!\n",
            "  Gradient evaluation took 0.000163 seconds\n",
            "  1000 transitions using 10 leapfrog steps per transition would take 1.63 seconds.\n",
            "  Adjust your expectations accordingly!\n",
            "  Gradient evaluation took 0.000184 seconds\n",
            "  1000 transitions using 10 leapfrog steps per transition would take 1.84 seconds.\n",
            "  Adjust your expectations accordingly!\n"
          ]
        }
      ]
    },
    {
      "cell_type": "code",
      "source": [
        "plt.scatter(BIC, WBIC)\n",
        "plt.title('BIC and WBIC(p=13)')\n",
        "plt.xlabel('BIC')\n",
        "plt.ylabel('WBIC')\n",
        "plt.show()"
      ],
      "metadata": {
        "colab": {
          "base_uri": "https://localhost:8080/",
          "height": 472
        },
        "id": "vAcEp_9_lgbH",
        "outputId": "b34c35a8-8a17-47ff-f327-a04be8a6e832"
      },
      "execution_count": null,
      "outputs": [
        {
          "output_type": "display_data",
          "data": {
            "text/plain": [
              "<Figure size 640x480 with 1 Axes>"
            ],
            "image/png": "[encoded data removed]"
          },
          "metadata": {}
        }
      ]
    },
    {
      "cell_type": "code",
      "source": [],
      "metadata": {
        "id": "Ufola0cFpATz"
      },
      "execution_count": null,
      "outputs": []
    }
  ]
}